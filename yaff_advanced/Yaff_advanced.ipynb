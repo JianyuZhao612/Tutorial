{
 "cells": [
  {
   "cell_type": "markdown",
   "metadata": {},
   "source": [
    "# Molecular simulations with Yaff: Advanced MD"
   ]
  },
  {
   "cell_type": "markdown",
   "metadata": {},
   "source": [
    "This notebook is devoted to performing advanced molecular dynamics (MD) simulations in *Yaff*. As explained in the previous notebook, the general idea of MD simulations is to sample the molecular phase space in a smart way, by sampling those regions with high boltzmann probability. For the details of regular MD simulations, we refer to the previous notebook. \n",
    "\n",
    "Despite the success of regular MD simulations, their usage can be limited for real-life systems. Often, the phase space of these real-life systems contains enery barriers which can not be overcome during a regular MD simulation. Hence, several enhanced sampling methods were proposed to overcome this issue. Some advanced sampling methods exploit the constraints forced by the employed ensemble, such as **thermodynamic integration** in the $(N, V, \\sigma_a = {\\bf 0}, T)$ ensemble, wheras others use an additional bias potential, *i.e.* **umbrella sampling** and **metadynamics**. Herein, we explain how to these biased simulations can be performed in *Yaff*, and illustrate the importance of choosing good **collective variables**.\n",
    "\n",
    "In this *Python* notebook, we will cover:\n",
    "\n",
    "1. The system under study: Cyclohexane\n",
    "2. The importance of collective variables\n",
    "3. Metadynamics\n",
    "4. Umbrella sampling\n",
    "\n",
    "Note that these advanced simulations use additional *Python* modules, contained in `colvar.py` (for the collective variables), `DMTD.py` (for metadynamics), and `DUS.py` (for umbrella sampling). These *Python* packages are not yet avaialble in the newest *Yaff* release, but are provided in this folder."
   ]
  },
  {
   "cell_type": "markdown",
   "metadata": {},
   "source": [
    "## Chapter 1: The system under study: Cyclohexane"
   ]
  },
  {
   "cell_type": "markdown",
   "metadata": {},
   "source": [
    "In this notebook, we study the cyclohexane molecule. This cyclic organic molecule has several **(meta)stable** conformations, called the **chair**, **(half)chair**, **boat**, and **inversed chair conformations**. The figure below shows the chair, boat and inversed chair conformation."
   ]
  },
  {
   "cell_type": "markdown",
   "metadata": {},
   "source": [
    "![alt text](chair2invchair.png \"Cyclohexane conformations\")"
   ]
  },
  {
   "cell_type": "markdown",
   "metadata": {},
   "source": [
    "Herein, we aim to construct a free energy profile that is able to describe these three conformations, as well as the transformations from the chair to the inversed chair conformation via the boat conformation. Before going into the advanced simulation techniques, it is intructive to study the behavior of cyclohexane during a regular MD simulation. To this end, we run three MD simulations:\n",
    "\n",
    "1. The first simulation starts from the chair conformation\n",
    "2. The second simulation starts from the boat conformation\n",
    "3. The third simulation starts from the inverse chair conformation"
   ]
  },
  {
   "cell_type": "markdown",
   "metadata": {},
   "source": [
    "First, we run the MD simulation starting from the chair conformation:"
   ]
  },
  {
   "cell_type": "code",
   "execution_count": null,
   "metadata": {},
   "outputs": [],
   "source": [
    "import os\n",
    "import h5py\n",
    "from yaff import *\n",
    "import numpy as np\n",
    "\n",
    "# MD input\n",
    "number_of_md_steps = 10000\n",
    "temp = 300*kelvin\n",
    "timestep = 0.5*femtosecond\n",
    "\n",
    "# Create system and force field objects\n",
    "chair = System.from_file('chair.chk')\n",
    "ff = ForceField.generate(chair, 'pars.txt', rcut=15*angstrom, alpha_scale=3.2, gcut_scale=1.5, smooth_ei=True)\n",
    "\n",
    "# Initialize the thermostat and the screen logger\n",
    "thermo = NHCThermostat(temp, timecon = 100.0*femtosecond)\n",
    "vsl = VerletScreenLog(step=100)\n",
    "\n",
    "# Initialize the input/output files\n",
    "xyz = XYZWriter('traj_chair.xyz')\n",
    "with h5py.File('traj_chair.h5', mode='w') as f:\n",
    "    hdf = HDF5Writer(f, step=10)\n",
    "    # Run the MD simulation\n",
    "    md = VerletIntegrator(ff, timestep, hooks = [thermo, vsl, hdf, xyz])\n",
    "    md.run(number_of_md_steps)"
   ]
  },
  {
   "cell_type": "markdown",
   "metadata": {},
   "source": [
    "Visualize the output using [VMD](http://www.ks.uiuc.edu/Research/vmd/). To this end, execute\n",
    "\n",
    "    vmd traj_chair.xyz\n",
    "\n",
    "from a terminal window opened in the folder containing this notebook. Do you observe any transformations?"
   ]
  },
  {
   "cell_type": "markdown",
   "metadata": {},
   "source": [
    "Now, run the second and the third simulation, corresponding to the boat and inverse chair conformation, respectively:"
   ]
  },
  {
   "cell_type": "code",
   "execution_count": null,
   "metadata": {},
   "outputs": [],
   "source": [
    "# Create system and force field objects\n",
    "boat = System.from_file('boat.chk')\n",
    "ff = ForceField.generate(boat, 'pars.txt', rcut=15*angstrom, alpha_scale=3.2, gcut_scale=1.5, smooth_ei=True)\n",
    "\n",
    "# Initialize the thermostat and the screen logger\n",
    "thermo = NHCThermostat(temp, timecon=100.0*femtosecond)\n",
    "vsl = VerletScreenLog(step=100)\n",
    "\n",
    "# Initialize the input/output files\n",
    "xyz = XYZWriter('traj_boat.xyz')\n",
    "with h5py.File('traj_boat.h5', mode='w') as f:\n",
    "    hdf=HDF5Writer(f, step=10)\n",
    "    # Run the MD simulation\n",
    "    md = VerletIntegrator(ff, timestep, hooks = [thermo, vsl, hdf, xyz])\n",
    "    md.run(number_of_md_steps)"
   ]
  },
  {
   "cell_type": "code",
   "execution_count": null,
   "metadata": {},
   "outputs": [],
   "source": [
    "# Create system and force field objects\n",
    "ichair = System.from_file('ichair.chk')\n",
    "ff = ForceField.generate(ichair, 'pars.txt', rcut=15*angstrom, alpha_scale=3.2, gcut_scale=1.5, smooth_ei=True)\n",
    "\n",
    "# Initialize the thermostat and the screen logger\n",
    "thermo = NHCThermostat(temp, timecon=100.0*femtosecond)\n",
    "vsl = VerletScreenLog(step=100)\n",
    "\n",
    "# Initialize the input/output files\n",
    "xyz = XYZWriter('traj_ichair.xyz')\n",
    "with h5py.File('traj_ichair.h5', mode='w') as f:\n",
    "    hdf=HDF5Writer(f, step=10)\n",
    "    # Run the MD simulation\n",
    "    md = VerletIntegrator(ff, timestep, hooks = [thermo, vsl, hdf, xyz])\n",
    "    md.run(number_of_md_steps)"
   ]
  },
  {
   "cell_type": "markdown",
   "metadata": {},
   "source": [
    "Again visualize the output. Do you observe any transformations?"
   ]
  },
  {
   "cell_type": "markdown",
   "metadata": {},
   "source": [
    "Indeed, as stated earlier, the barriers between the three conformations prohibit any transition. We need to enhance our sampling."
   ]
  },
  {
   "cell_type": "markdown",
   "metadata": {},
   "source": [
    "<br/>"
   ]
  },
  {
   "cell_type": "markdown",
   "metadata": {},
   "source": [
    "## Chapter 2: The importance of collective variables"
   ]
  },
  {
   "cell_type": "markdown",
   "metadata": {},
   "source": [
    "When we enhance the sampling of the MD simulations, we do this in those directions for which the sampling is limited due to the presence of **reaction barriers**. Those directions are described by a set of **collective variables**, adopting real values that indicate the progress along these directions."
   ]
  },
  {
   "cell_type": "markdown",
   "metadata": {},
   "source": [
    "Several options can be considered as a collective variable, such as distances between two molecules, angles between three molecules, etc. In essence, the collective variable should clearly describe the transition from one conformation to the other and adopt clearly separated values for each (meta)stable state. In mathematical terms, the collective variable should behave as a monotonically increasing function of transition progress."
   ]
  },
  {
   "cell_type": "markdown",
   "metadata": {},
   "source": [
    "In *Yaff*, the `colvar.py` library contains a set of predefined collective variables. To run enhanced sampling simulations, this library is imported first and subsequently, a collective variable is defined. For the system under study, cyclohexane, the dihedral angle of four subsequent carbon atoms in the ring seems a decent choice for the collective variable."
   ]
  },
  {
   "cell_type": "code",
   "execution_count": null,
   "metadata": {},
   "outputs": [],
   "source": [
    "import colvar\n",
    "\n",
    "# Define the collective variable type (\"DIHEDRAL\", \"ANGLE\", \"DISTANCE\")\n",
    "type = \"DIHEDRAL\"\n",
    "\n",
    "# Define the atom numbers for which the collective variable is defined\n",
    "n1 = 0\n",
    "n2 = 13\n",
    "n3 = 10\n",
    "n4 = 7\n",
    "\n",
    "# Instantiate a collective variable object\n",
    "cv = colvar.Dihedral('dihedral_colvar', [n1,n2,n3,n4])\n",
    "\n",
    "# Define the unit of our collective variable (useful for post-processing)\n",
    "unit = deg"
   ]
  },
  {
   "cell_type": "markdown",
   "metadata": {},
   "source": [
    "Let's compare the value of the dihedral during the MD simulations we performed earlier. Make a plot of the trajectory and the corresponding histogram. Reflect on the outcome. What do the axes represent?"
   ]
  },
  {
   "cell_type": "code",
   "execution_count": null,
   "metadata": {},
   "outputs": [],
   "source": [
    "%matplotlib inline\n",
    "import matplotlib.pylab as plt\n",
    "\n",
    "# The names of the different conformations\n",
    "conf = ['chair', 'boat', 'ichair']\n",
    "\n",
    "# Define the colors that will be used\n",
    "colors = ['royalblue', 'crimson', 'darkseagreen']\n",
    "\n",
    "# Create a stacked plot, \n",
    "f, ax = plt.subplots(2,1)\n",
    "\n",
    "# For all of the three conformations:\n",
    "for ic,c in enumerate(conf):\n",
    "    # Define the output file\n",
    "    f = 'traj_' + c + '.h5'\n",
    "    # Create a time series containing the values of the collective variable\n",
    "    t = cv.post(f)/unit\n",
    "    # Plot this time series in the upper pane\n",
    "    ax[0].plot(t, color=colors[ic])\n",
    "    # Create a histogram from this time series\n",
    "    h, b = np.histogram(t, density=True)\n",
    "    # Plot this histogram\n",
    "    ax[1].plot(b[:-1], h, color=colors[ic])\n",
    "\n",
    "# Finally, show the figure\n",
    "plt.show()"
   ]
  },
  {
   "cell_type": "markdown",
   "metadata": {},
   "source": [
    "From the plots above, it is clear that no transformation between any of the three conformations was observed. In what follows, we will force such a transition by using either metadynamics or umbrella sampling."
   ]
  },
  {
   "cell_type": "markdown",
   "metadata": {},
   "source": [
    "<br/>"
   ]
  },
  {
   "cell_type": "markdown",
   "metadata": {},
   "source": [
    "## Chapter 3: Metadynamics"
   ]
  },
  {
   "cell_type": "markdown",
   "metadata": {},
   "source": [
    "A first example of an advanced sampling simulation is **metadynamics**. In this method, a bias potential is added to the potential energy surface at already frequented locations, forcing the system to visit states that have not been visited before. This bias potential $U_b$ is a function of the collective variable $q$ and often consists of a summation of Gaussian contributions with heights $h$ and widths $w$:\n",
    "\n",
    "$$ U_b(q) = h \\sum_{i=0}^{N(t)} \\exp\\left(-\\frac{(q-q_i)^2}{2w^2}\\right) $$\n",
    "\n",
    "The bias potential is updated over time and each new Gaussian contribution centers around the most visited state of the MD steps since the last update of the bias potential, $q_i$. The latter update fashion should be maintained until the bias potential counteracts the underlying―unknown―free energy profile and each state becomes equally probable. Upon convergence, we hence find the free energy profile $F(q)$ as the negative of the bias potential: $F(q)=-U_b(q)$. For more information on metadynamics, look into following [reference](http://www.pnas.org/content/99/20/12562)."
   ]
  },
  {
   "cell_type": "markdown",
   "metadata": {},
   "source": [
    "Metadynamics simulations can be run in *Yaff* via the additional `DMTD.py` module. "
   ]
  },
  {
   "cell_type": "code",
   "execution_count": null,
   "metadata": {},
   "outputs": [],
   "source": [
    "import DMTD\n",
    "\n",
    "# Create system and force field objects\n",
    "chair = System.from_file('chair.chk')\n",
    "ff = ForceField.generate(chair, 'pars.txt', rcut=15*angstrom, alpha_scale=3.2, gcut_scale=1.5, smooth_ei=True)\n",
    "\n",
    "# Initialize the thermostat and the screen logger\n",
    "thermo = NHCThermostat(temp, timecon=100.0*femtosecond)\n",
    "vsl = VerletScreenLog(step=100)\n",
    "\n",
    "#Information on the Gaussian contributions\n",
    "# The width\n",
    "w = [15*deg]\n",
    "# The height\n",
    "h = 1*kjmol\n",
    "# The collective variable\n",
    "cv = colvar.Dihedral('dihedral4C', [n1, n2, n3, n4])\n",
    "# Putting it all together\n",
    "hill = [DMTD.Hills([cv], width=w, height=h)]\n",
    "\n",
    "# Information on the MTD protocol:\n",
    "# How often is the bias potential updated\n",
    "n_updates = 100\n",
    "# Number of MD steps before updating the bias\n",
    "n_steps_per_update = 1000\n",
    "# Note: the total simulation time is n_updates*n_step_per_update\n",
    "\n",
    "# Initialize the input/output files\n",
    "xyz = XYZWriter('traj_mtd.xyz', step=100)\n",
    "with h5py.File('traj_mtd.h5', mode='w') as f:\n",
    "    hdf = HDF5Writer(f,step=100)\n",
    "    # Run the metadynamics MD simulation\n",
    "    replica = DMTD.Metadynamics1D(ff, timestep, n_updates, n_steps_per_update, hill, hooks=[hdf,thermo,vsl,xyz])\n",
    "    replica.runMeta()"
   ]
  },
  {
   "cell_type": "markdown",
   "metadata": {},
   "source": [
    "The HDF5 file `traj_mtd.h5` contains all information on the bias potential, which is stored under the `trajectory/mtd` group. We can reconstruct the free energy from this file with the code below. Note that the minimum of this profile is (arbitrarily) shifted to 0 kJ/mol. Can you rationalize why we can make this shift? "
   ]
  },
  {
   "cell_type": "code",
   "execution_count": null,
   "metadata": {},
   "outputs": [],
   "source": [
    "# Read in the last row in the trajectory/mtd group,\n",
    "# containing the all values of the collective variable\n",
    "# at which a Gaussian contribution was added\n",
    "with h5py.File('traj_mtd.h5', mode='r') as f1:\n",
    "    positions = f1['trajectory/mtd'][-1,:]\n",
    "\n",
    "# Construct a uniform grid along the collective variable [-60°, 60°]\n",
    "# and initialize the corresponding free energy to zero\n",
    "grid = np.arange(-60, 61, 1)*unit\n",
    "free_energy = np.zeros(len(grid[:]))\n",
    "\n",
    "# Reconstruct the free energy profile on this grid,\n",
    "# using the known positions of the Gaussian contributions\n",
    "for i in range(len(grid)):\n",
    "    curr_pos = grid[i]\n",
    "    # For each grid point, sum the contributions of the N Gaussians\n",
    "    free_energy[i] = -(np.sum(h*np.exp(-(curr_pos-positions[:])**2/(2.*w[0]**2))))/kjmol\n",
    "\n",
    "# Plot and show the figure\n",
    "plt.plot(grid/unit, free_energy - np.min(free_energy))\n",
    "plt.show()"
   ]
  },
  {
   "cell_type": "markdown",
   "metadata": {},
   "source": [
    "Can you interpret this free energy profile? Which is the most stable state, which state is unstable? Moreover, how do you relate this with the previous results of the MD simulations? What about the accuracy of this free energy profile? Do you think this profile is converged? How will the parameter choice ($h$, $w$, number of steps) influence our result?"
   ]
  },
  {
   "cell_type": "markdown",
   "metadata": {},
   "source": [
    "<br/>"
   ]
  },
  {
   "cell_type": "markdown",
   "metadata": {},
   "source": [
    "## Chapter 4: Umbrella sampling"
   ]
  },
  {
   "cell_type": "markdown",
   "metadata": {},
   "source": [
    "The second advanced simulation method we consider in this notebook is *umbrella sampling*. To allow the system to sample different parts of the phase space, we create a harmonic bias potential $U_{bias}$ as a function of the collective variable $q$ with spring constant $k$:\n",
    "\n",
    "$$ U_{bias} = \\frac{k}{2} (q-q_0)^2 $$\n",
    "\n",
    "With the aid of this bias potential, the system will sample the phase space in that region centered around the point where the collective variable takes the value $q_0$."
   ]
  },
  {
   "cell_type": "markdown",
   "metadata": {},
   "source": [
    "By performing a number of umbrella sampling simulations in parallel, with different minima $q_0$, the entire phase space can be sampled. A free energy profile can subsequently be created from the **weighted histogram analysis method** (WHAM), which combines the essential information from the different simulations. More information on WHAM can be found in section 7.3.1 of *Understanding Molecular Simulations: From Algorithm to Application*."
   ]
  },
  {
   "cell_type": "markdown",
   "metadata": {},
   "source": [
    "To add a harmonic umbrella potential to the potential energy surface in *Yaff*, the additional module `DUS.py` needs to be imported. Based on this module, we can run simulation with different potentials (note that such simulations can be run in parallel if the architecture allows for it)."
   ]
  },
  {
   "cell_type": "markdown",
   "metadata": {},
   "source": [
    "Below, an umbrella sampling simulation for the cyclohexane molecule is started with umbrellas centered along the values in [-55°,55°] with a spacing of 5°."
   ]
  },
  {
   "cell_type": "code",
   "execution_count": null,
   "metadata": {},
   "outputs": [],
   "source": [
    "import DUS\n",
    "\n",
    "# The collective variable\n",
    "cv = colvar.Dihedral('dihedral4C', [n1, n2, n3, n4])\n",
    "# Construct the grid along which umbrellas will be placed\n",
    "cvs = np.arange(-55, 60, 5)\n",
    "\n",
    "# MD input equal for all umbrellas\n",
    "number_of_md_steps = 2000\n",
    "# Define the spring constant k\n",
    "kappa = 0.25*kjmol/unit**2\n",
    "# Define the temperature\n",
    "temp = 300.*kelvin\n",
    "# Define the timestep\n",
    "timestep = 0.5*femtosecond\n",
    "\n",
    "# Create a designated directory for the US simulation (if not already present)\n",
    "if not os.path.exists('US'):\n",
    "    os.mkdir('US')\n",
    "\n",
    "# For each umbrella:\n",
    "for c in cvs:\n",
    "    # Make a folder for this umbrella (if not yet present)\n",
    "    direc='US/US_'+str(c)+'/'\n",
    "    if not os.path.exists(direc):\n",
    "        os.mkdir(direc)\n",
    "    \n",
    "    # Create a System object (a .chk file has already been provided)\n",
    "    system = System.from_file('structures/structure_' + str(c) + '.chk')\n",
    "    \n",
    "    # Create a force field object\n",
    "    ff = ForceField.generate(system, 'pars.txt', rcut=15*angstrom, alpha_scale=3.2, gcut_scale=1.5, smooth_ei=True)\n",
    "\n",
    "    # Initialize the thermostat and the screen logger\n",
    "    thermo = NHCThermostat(temp, timecon=100.0*femtosecond)\n",
    "    vsl = VerletScreenLog(step=100)\n",
    "    \n",
    "    # Initialize the input/output files:\n",
    "    xyz = XYZWriter(direc + 'traj.xyz', step=10)\n",
    "    with h5py.File(direc + 'traj.h5', mode='w') as f:\n",
    "        hdf = HDF5Writer(f, step=10)\n",
    "        # Create the umbrella at position c\n",
    "        umbrellas = DUS.Umbrella([cv], [kappa], [c*unit])     \n",
    "        # Initialize the US simulation\n",
    "        replica = DUS.US(ff, timestep, number_of_md_steps, umbrellas, hooks=[hdf,thermo,xyz,vsl])\n",
    "        # Run the simulation\n",
    "        replica.runU()"
   ]
  },
  {
   "cell_type": "markdown",
   "metadata": {},
   "source": [
    "We start by visualizing the collective variable trajectory for all simulations. In order to obtain a decent free energy profile, these trajectories should overlap sufficiently. "
   ]
  },
  {
   "cell_type": "code",
   "execution_count": null,
   "metadata": {},
   "outputs": [],
   "source": [
    "# Open a file that will be completed with relevant output\n",
    "with open('metadata','w') as g:\n",
    "    # Run over the different positions for the umbrella\n",
    "    for i,c in enumerate(cvs):\n",
    "        # Define the directory where the results are stored\n",
    "        direc = 'US/US_' + str(c)\n",
    "        # Define the HDF5 file containing the output\n",
    "        f = direc + '/traj.h5'\n",
    "        # Try to access the file (will fail if a simulation failed)\n",
    "        try:\n",
    "            # Return the values of the collective variable in this simulation\n",
    "            cv_ser = cv.post(f)/unit\n",
    "            # Plot these values\n",
    "            plt.plot(cv_ser)\n",
    "            # Create a 1D time series of the collective variable\n",
    "            cv_ser = np.array(cv_ser).reshape(-1,1)\n",
    "            t = np.arange(0,len(cv_ser)).reshape(-1,1)\n",
    "            # Save this time series in a file named colvar\n",
    "            np.savetxt('US/US_' + str(c) + '/colvar', np.hstack((t, cv_ser)))\n",
    "            # Write the value of the collective variable and the harmonic spring constant\n",
    "            g.write(direc + '/colvar\\t' + str(c) + '\\t' + str(kappa) + '\\n')\n",
    "        # If accessing one of the simulations fails, warn the user\n",
    "        except IOError:\n",
    "            print('One of your simulations failed')\n",
    "\n",
    "# Plot the results\n",
    "plt.show()"
   ]
  },
  {
   "cell_type": "markdown",
   "metadata": {},
   "source": [
    "If the trajectories look decent (*i.e.*, have sufficient overlap), we can use the weighted histogram analysis method. We employ a WHAM script provided by the [Grossfield lab](http://membrane.urmc.rochester.edu/content/wham). Using the following syntax in a terminal\n",
    "\n",
    "    ./whame min max bins tolerance temp errorAnalysis metadataFile freeEnergyFile\n",
    "    \n",
    "will generate the global free energy profile from the different US simulations."
   ]
  },
  {
   "cell_type": "code",
   "execution_count": null,
   "metadata": {},
   "outputs": [],
   "source": [
    "%%bash\n",
    "./whame -50 50 100 0.00001 300 0 metadata free"
   ]
  },
  {
   "cell_type": "markdown",
   "metadata": {},
   "source": [
    "Finally, let's visualize the resulting free energy profile:"
   ]
  },
  {
   "cell_type": "code",
   "execution_count": null,
   "metadata": {},
   "outputs": [],
   "source": [
    "# Extract the free energy\n",
    "free = np.genfromtxt('free')\n",
    "\n",
    "# Plot the free energy\n",
    "plt.plot(free[:,0], free[:,1])\n",
    "plt.show()"
   ]
  },
  {
   "cell_type": "markdown",
   "metadata": {},
   "source": [
    "Does this result looks statisfying? How could you obtain a better result? From more and longer simulations performed in the HPC environment, we obtain a result shown belown. Interpret this result compare it with the MTD and US results obtained here."
   ]
  },
  {
   "cell_type": "markdown",
   "metadata": {},
   "source": [
    "![alt text](free.png \"Cyclohexane free energy profile\")"
   ]
  },
  {
   "cell_type": "markdown",
   "metadata": {},
   "source": [
    "<br/>"
   ]
  },
  {
   "cell_type": "markdown",
   "metadata": {},
   "source": [
    "Congratulations, you finished the notebook on advanced MD in *Yaff*."
   ]
  }
 ],
 "metadata": {
  "kernelspec": {
   "display_name": "Python 3",
   "language": "python",
   "name": "python3"
  },
  "language_info": {
   "codemirror_mode": {
    "name": "ipython",
    "version": 3
   },
   "file_extension": ".py",
   "mimetype": "text/x-python",
   "name": "python",
   "nbconvert_exporter": "python",
   "pygments_lexer": "ipython3",
   "version": "3.6.2"
  }
 },
 "nbformat": 4,
 "nbformat_minor": 1
}
