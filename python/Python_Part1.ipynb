{
 "cells": [
  {
   "cell_type": "markdown",
   "metadata": {},
   "source": [
    "# Learning the ropes of *Python*"
   ]
  },
  {
   "cell_type": "markdown",
   "metadata": {},
   "source": [
    "Welcome in this four-part notebook which aims to prepare you to use *Python* during your master dissertation. As these notebooks start from scratch, some of these topics may seem too simple. Of course, feel free to skip those topics that are too easy, and concentrate on the harder ones (or the challenges at the end of each notebook).\n",
    "\n",
    "The *Python* notebooks are divided in four parts:\n",
    "1. The Basics: Syntax, Strings, and Conditionals\n",
    "2. Functions and Classes\n",
    "3. Lists, Loops, Dictionaries, and File I/O\n",
    "4. NumPy and Matplotlib\n",
    "\n",
    "In every notebook, we have not only provided an introduction to each subject, but also some small tests and larger challenges for you to tackle. This is the ideal way to verify whether you completely understand the topics at hand. \n",
    "\n",
    "Note that we cannot be exhaustive. However, these notebooks aim to get you started with *Python* with minimum effort. Further details can be found on the [*Python* homepage](http://docs.python.org/3/). Special thanks goes out to [Codecademy](http://www.codecademy.com), the online platform that was used as the basis of many of the examples given below.\n",
    "\n",
    "Finally, while this notebook environment is ideally suited for a first introduction to *Python*, some small differences exist with the real-life environment that will be used during your master dissertation. Here, every chunk of code appears in a box similar to the one below. Everything inside the box can be executed at once by pressing Shift + Enter (don't forget the Shift). During your master dissertation, your *Python* scripts will most likely be written in a text editor such as *gedit* or *nano*, and executed in the terminal window using the command `python script.py`. Everything that the script outputs, which would normally appear in your terminal window, will here appear below the box you just executed. See for yourself in the chunk of code below:"
   ]
  },
  {
   "cell_type": "code",
   "execution_count": null,
   "metadata": {
   },
   "outputs": [],
   "source": [
    "print(\"Hello World\")"
   ]
  },
  {
   "cell_type": "markdown",
   "metadata": {},
   "source": [
    "However, apart from this small difference, this notebook environment closely emulates the true environment you will be using later on.\n",
    "\n",
    "With all that being said, let's get started..."
   ]
  },
  {
   "cell_type": "markdown",
   "metadata": {},
   "source": [
    "# Part 1: The Basics: Syntax, Strings, and Conditionals"
   ]
  },
  {
   "cell_type": "markdown",
   "metadata": {},
   "source": [
    "*My favorite language for maintainability is Python. It has simple, clean syntax, object encapsulation, good library support, and optional named parameters.*<br/>\n",
    "<div style=\"text-align: right\"> -- Bram Cohen, American computer scientist </div>"
   ]
  },
  {
   "cell_type": "markdown",
   "metadata": {},
   "source": [
    "## Chapter 1: Syntax"
   ]
  },
  {
   "cell_type": "markdown",
   "metadata": {},
   "source": [
    "### 1.1. What's in a name: Variables and data types"
   ]
  },
  {
   "cell_type": "markdown",
   "metadata": {},
   "source": [
    "Creating web apps, games, search engines and simulation software all involve storing and working with different types of data. They do so using **variables**. A variable stores a piece of data, and gives it a specific name.\n",
    "\n",
    "For instance, the variable `spam` stores the value `5` after execution of the chunk of code below."
   ]
  },
  {
   "cell_type": "code",
   "execution_count": null,
   "metadata": {
   },
   "outputs": [],
   "source": [
    "spam = 5"
   ]
  },
  {
   "cell_type": "markdown",
   "metadata": {},
   "source": [
    "Try it out yourself: set the variable `my_int` equal to the value `10` in the code below, and execute the code. If everything goes right, your code should output `10`."
   ]
  },
  {
   "cell_type": "code",
   "execution_count": null,
   "metadata": {
   },
   "outputs": [],
   "source": [
    "# Insert your line of code here\n",
    "\n",
    "# Do not alter the line below\n",
    "print(my_int)"
   ]
  },
  {
   "cell_type": "markdown",
   "metadata": {},
   "source": [
    "You just stored an **integer** in a variable. Integers are one **data type** used in programming. A second data type to store (real) numbers, is a **float**:"
   ]
  },
  {
   "cell_type": "code",
   "execution_count": null,
   "metadata": {
   },
   "outputs": [],
   "source": [
    "my_float = 12.32\n",
    "print(my_float)"
   ]
  },
  {
   "cell_type": "markdown",
   "metadata": {},
   "source": [
    "A third data type introduced here is called a **boolean**. A boolean is like a light switch. It can only have two values. Just like a light swtich can only be on or off, a boolean can only be `True` or `False`. For instance:"
   ]
  },
  {
   "cell_type": "code",
   "execution_count": null,
   "metadata": {
   },
   "outputs": [],
   "source": [
    "my_bool = True\n",
    "print(my_bool)"
   ]
  },
  {
   "cell_type": "markdown",
   "metadata": {},
   "source": [
    "We previously assigned to the variable `my_int` the value `10`. Let's say we want to change the value in this variable to `3`. In the code below, reassign the value by inserting `my_int = 3` in between the two print statements, and watch what happens when you execute the code."
   ]
  },
  {
   "cell_type": "code",
   "execution_count": null,
   "metadata": {
   },
   "outputs": [],
   "source": [
    "print(my_int)\n",
    "\n",
    "# Add your own code on the line hereunder\n",
    "\n",
    "\n",
    "# Do not change the line below\n",
    "print(my_int)"
   ]
  },
  {
   "cell_type": "markdown",
   "metadata": {},
   "source": [
    "You can easily check the data type of a variable using the `type` command:"
   ]
  },
  {
   "cell_type": "code",
   "execution_count": null,
   "metadata": {
   },
   "outputs": [],
   "source": [
    "print(type(my_int))\n",
    "print(type(my_float))\n",
    "print(type(my_bool))"
   ]
  },
  {
   "cell_type": "markdown",
   "metadata": {},
   "source": [
    "### 1.2. Whitespace and comments"
   ]
  },
  {
   "cell_type": "markdown",
   "metadata": {},
   "source": [
    "In *Python*, whitespace is used to structure code. When used to indent blocks (see the chapter on conditional statements and loops), whitespace is necessary for your code to execute as expected. However, even when not strictly necessary, whitespace and comments may greatly facilitate the readibility of your code, and we strongly advise you to use it whenever possible."
   ]
  },
  {
   "cell_type": "markdown",
   "metadata": {},
   "source": [
    "As an example of where whitespace is necessary, look at the chunk of code below. As we will learn in a later chapter, the body of a function needs to be indented with respect to its header (the line starting with `def`). The default indentation is four spaces (which, coincidentally, also corresponds to one tab). Try to execute the code below as-is, and observe the **IndentationError** thrown by *Python*. Now, correctly indent the second and third line, and execute your code again."
   ]
  },
  {
   "cell_type": "code",
   "execution_count": null,
   "metadata": {
   },
   "outputs": [],
   "source": [
    "def spam():\n",
    "eggs = 12\n",
    "return eggs\n",
    "\n",
    "print(spam())"
   ]
  },
  {
   "cell_type": "markdown",
   "metadata": {},
   "source": [
    "You probably saw us use the `#` sign a few times in earlier exercises. The `#` sign is for comments. A comment is a line of text that *Python* won't try to run as code. It's just for humans to read.  Comments make your program easier to understand. When you look back at your code or others want to collaborate with you, they can read your comments and easily figure out what your code does."
   ]
  },
  {
   "cell_type": "markdown",
   "metadata": {},
   "source": [
    "Write a comment in the box below. Make sure it starts with ´#´. The comment can say anything you like."
   ]
  },
  {
   "cell_type": "code",
   "execution_count": null,
   "metadata": {
   },
   "outputs": [],
   "source": [
    "# This is a comment"
   ]
  },
  {
   "cell_type": "markdown",
   "metadata": {},
   "source": [
    "The `#` sign will only comment out a single line. While you could write a multi-line comment, starting each line with `#`, that can be a pain.\n",
    "\n",
    "Instead, for multi-line comments, you can include the whole block in a set of triple quotation marks, such as those below."
   ]
  },
  {
   "cell_type": "code",
   "execution_count": null,
   "metadata": {
   },
   "outputs": [],
   "source": [
    "'''\n",
    "Sipping from your cup 'til it runneth over,\n",
    "Holy Grail.\n",
    "'''"
   ]
  },
  {
   "cell_type": "markdown",
   "metadata": {},
   "source": [
    "### 1.3. Math: Not even once"
   ]
  },
  {
   "cell_type": "markdown",
   "metadata": {},
   "source": [
    "*Python* has some [built-in functions](http://docs.python.org/2/library/functions.html) and operators to do basic math. In Part 4, we will see how *NumPy* provides a (often faster) alternative. For now, however, we stay with plain *Python*. In the chunk of code below, we provide the four basic operators:"
   ]
  },
  {
   "cell_type": "code",
   "execution_count": null,
   "metadata": {
   },
   "outputs": [],
   "source": [
    "addition = 568 + 1894\n",
    "subtraction = 2399885 - 548949\n",
    "multiplication = 5489 * 569\n",
    "division = 128 / 11\n",
    "integer_division = 128 // 11\n",
    "\n",
    "# Do not alter the lines below\n",
    "print(addition)\n",
    "print(subtraction)\n",
    "print(multiplication)\n",
    "print(division)\n",
    "print(integer_division)"
   ]
  },
  {
   "cell_type": "markdown",
   "metadata": {},
   "source": [
    "**Beware**, when dividing a dividend by a number that is not a divisor of the dividend, we expect to obtain a real number. However, in the older *Python 2.x* version, this is not the case: division of an integer by an integer always returns an integer, discarding the decimal part of the quotient if necessary. As a result, earlier *Python* versions will return `5 / 2 == 2`, and casting was required to get a proper division: ` float(5) / 2 == 2.5` or `5.0 / 2 == 2.5`. The integer division in *Python 3.x* has now its own operator: `//`."
   ]
  },
  {
   "cell_type": "code",
   "execution_count": null,
   "metadata": {
   },
   "outputs": [],
   "source": [
    "my_int_as_float = float(my_int)\n",
    "\n",
    "# Do not alter the two lines below\n",
    "print(my_int)\n",
    "print(my_int_as_float)"
   ]
  },
  {
   "cell_type": "markdown",
   "metadata": {},
   "source": [
    "*Python* has a shorthand notation for an arithmetic expression on a variable whose result is stored in the same variable, because this is often needed. For instance, when we need to add 2 to the variable `counter`, we can do this in two ways:"
   ]
  },
  {
   "cell_type": "code",
   "execution_count": null,
   "metadata": {
   },
   "outputs": [],
   "source": [
    "# Way 1: The long way\n",
    "counter = 2\n",
    "counter = counter + 2\n",
    "print(counter)\n",
    "\n",
    "# Way 2: The slightly shorter way\n",
    "counter = 2\n",
    "counter += 2\n",
    "print(counter)"
   ]
  },
  {
   "cell_type": "markdown",
   "metadata": {},
   "source": [
    "This also holds for the other basic arithmetic operators. Note, however, that *Python* does not support *C++* style autoincrement and autodecrement, such as `counter--` (which is the same as `counter = counter - 1`)."
   ]
  },
  {
   "cell_type": "markdown",
   "metadata": {},
   "source": [
    "On to some more advanced math: **exponentiation**. To exponentiate a number, simply use the `**` operator. (Note the difference with multiplication, which is a single `*`. Many a good scientist has lost at least some time looking for such a mistake.)\n",
    "\n",
    "In the chunck of code below, raise 10 to the power of 2 and assign it to the variable `hundred`. Likewise, raise 169 to the power 0.5 and assign it to `thirteen`."
   ]
  },
  {
   "cell_type": "code",
   "execution_count": null,
   "metadata": {
   },
   "outputs": [],
   "source": [
    "# Complete the code here\n",
    "\n",
    "\n",
    "\n",
    "# Do not alter the lines below\n",
    "print(hundred)\n",
    "print(thirteen)"
   ]
  },
  {
   "cell_type": "markdown",
   "metadata": {},
   "source": [
    "As you can imagine, exponentiation can easily lead to huge numbers, such as `1234**123`. In earlier *Python* versions, this could result in **overflow**. However, since version 3, *Python* supports also large integers, ensuring that for instance `1234**123` will be evaluated correctly. "
   ]
  },
  {
   "cell_type": "markdown",
   "metadata": {},
   "source": [
    "Our final operator, at least for now, is **modulo**. Modulo returns the remainder from a division. So, if you type `3 % 2`, it will return `1`, because 2 goes into 3 evenly once, with 1 left over.\n",
    "\n",
    "In the chunk of code below, add a modulo expression to the right-hand side of the variable `one`, and make sure it is one."
   ]
  },
  {
   "cell_type": "code",
   "execution_count": null,
   "metadata": {
   },
   "outputs": [],
   "source": [
    "# Alter the right-hand side of the expression below\n",
    "one = \n",
    "\n",
    "# Do not alter the line below\n",
    "print(one)"
   ]
  },
  {
   "cell_type": "markdown",
   "metadata": {},
   "source": [
    "The order in which the operators above are evaluated (the operator **precedence**) is as follows:\n",
    "1. Parentheses\n",
    "2. Exponentiation\n",
    "3. Multiplication, division, modulo\n",
    "4. Addition and subtraction\n"
   ]
  },
  {
   "cell_type": "markdown",
   "metadata": {},
   "source": [
    "### 1.4. Test: A US tip calculator"
   ]
  },
  {
   "cell_type": "markdown",
   "metadata": {},
   "source": [
    "As those of you who have visited a restaurant in the US can confirm, it is often not straightforward to determine how much you have to pay when looking at the menu. The total cost to be paid includes:\n",
    "* The cost of the meal (let's say $44.50)\n",
    "* The restaurant tax (let's say 6.75%)\n",
    "* A tip (15% is an average tip)\n",
    "\n",
    "In the box below, do the following:\n",
    "1. Declare the variable `meal` and assign the correct value to it.\n",
    "2. Create the variable `tax` and set it equal to the decimal value of 6.75%.\n",
    "3. Create the variable `tip` and set it to the decimal value of 15%.\n",
    "4. Reassign meal to the value of the mail including tax.\n",
    "5. Finally, assign to the variable `total` the total cost, including taxes and tips. Note that the tip is calculated based on the meal including taxes.\n",
    "6. Execute the chunk of code below. If everything goes well, it should print out `54.63`."
   ]
  },
  {
   "cell_type": "code",
   "execution_count": null,
   "metadata": {
   },
   "outputs": [],
   "source": [
    "\n",
    "\n",
    "\n",
    "\n",
    "\n",
    "\n",
    "# Do not alter the line below\n",
    "print('{:.2f}'.format(total))"
   ]
  },
  {
   "cell_type": "markdown",
   "metadata": {},
   "source": [
    "The print statement above formats and prints the value of `total` with exactly two numbers after the decimal. We'll learn more about string formatting in the next chapter.\n",
    "\n"
   ]
  },
  {
   "cell_type": "markdown",
   "metadata": {},
   "source": [
    "<br/>"
   ]
  },
  {
   "cell_type": "markdown",
   "metadata": {},
   "source": [
    "## Chapter 2: Strings and Console Output"
   ]
  },
  {
   "cell_type": "markdown",
   "metadata": {},
   "source": [
    "### 2.1. Constructing strings"
   ]
  },
  {
   "cell_type": "markdown",
   "metadata": {},
   "source": [
    "A fourth useful data type is **string**. A string can contain letters, numbers and symbols, and is surrounded by single or double quotation marks, such as `\"Hello World!\"` in the beginning of this notebook.\n",
    "\n",
    "Create a new variable `brian` in the box below, and assign it the string `\"Hello Life!\"`"
   ]
  },
  {
   "cell_type": "code",
   "execution_count": null,
   "metadata": {
   },
   "outputs": [],
   "source": [
    "\n",
    "\n",
    "# Do not alter the line below\n",
    "print(brian)"
   ]
  },
  {
   "cell_type": "markdown",
   "metadata": {},
   "source": [
    "While you can use simple characters in a string, some more special characters need to be escaped. For instance, in the line below, the string is broken. Indeed, the `'` symbol in `isn't`, which comes from a contraction, is interpreted by *Python* as the end of a string. This can be circumvented by preceding this special character by a backslash, `\\` (or by using double quotation marks). Do this, and fix the string below."
   ]
  },
  {
   "cell_type": "code",
   "execution_count": null,
   "metadata": {
   },
   "outputs": [],
   "source": [
    "print('This isn't flying, this is falling with style!')"
   ]
  },
  {
   "cell_type": "markdown",
   "metadata": {},
   "source": [
    "Strings can easily be **concatenated** or joined together by putting the `+` operator between two strings. For instance (pay attention to the whitespace at the end of the first string):"
   ]
  },
  {
   "cell_type": "code",
   "execution_count": null,
   "metadata": {
   },
   "outputs": [],
   "source": [
    "first_string = \"Hello \"\n",
    "second_string = \"World\"\n",
    "print(first_string + second_string)"
   ]
  },
  {
   "cell_type": "markdown",
   "metadata": {},
   "source": [
    "### 2.2. Accessing parts of a string: Indexing and slicing"
   ]
  },
  {
   "cell_type": "markdown",
   "metadata": {},
   "source": [
    "Each character in a string is assigned a number. This number is called the **index** of the character. Note that *Python* starts to count at 0. For instance, in the word `python`, the character at index 3 is a `h`. This character can be retrieved by using square brackets:"
   ]
  },
  {
   "cell_type": "code",
   "execution_count": null,
   "metadata": {
   },
   "outputs": [],
   "source": [
    "print(\"python\"[3])"
   ]
  },
  {
   "cell_type": "markdown",
   "metadata": {},
   "source": [
    "Sometimes we only want part of a string. Maybe we only want the first few elements; maybe we only want the last few. Maybe we want every other element! **Slicing** allows us to access elements of a string (or a list, see further) in a concise manner. The syntax looks like this:\n",
    "\n",
    "`[start:end:stride]`\n",
    "\n",
    "Here, `start` describes where the slice starts (inclusive), `end` is where it ends (exclusive), and `stride` describes the space between items in the string. For example, a stride of `2` would select every other character from the original string to place in the sliced string. If you don’t pass a particular index to the slice, *Python* will pick the default. The default starting index is `0`. The default ending index is `-1`, i.e. the end of the string. The default stride is `1`. A negative stride progresses through the string from right to left.\n",
    "\n",
    "As a last point, we can also split a string using the `split()` method. Here, the original string is splitted at those points where the `separator` is found. For instance, if you want to split the following sentence, you may do the following:"
   ]
  },
  {
   "cell_type": "code",
   "execution_count": null,
   "metadata": {
   },
   "outputs": [],
   "source": [
    "s = \"This is a competely inspiring sentence.\"\n",
    "separator = \" \"\n",
    "print(s.split(separator))"
   ]
  },
  {
   "cell_type": "markdown",
   "metadata": {},
   "source": [
    "The output of this `split` method is a list of strings, but more about lists later on."
   ]
  },
  {
   "cell_type": "markdown",
   "metadata": {},
   "source": [
    "### 2.3. Test: A secret message!"
   ]
  },
  {
   "cell_type": "markdown",
   "metadata": {},
   "source": [
    "The following string is garbled in two ways:\n",
    "1. The message is written in reverse order.\n",
    "2. The letter we want is every other letter.\n",
    "\n",
    "Use slicing to extract the message and save it to a variable called `message`."
   ]
  },
  {
   "cell_type": "code",
   "execution_count": null,
   "metadata": {
   },
   "outputs": [],
   "source": [
    "garbled = \"!XeXgXaXsXsXeXmX XtXeXrXcXeXsX XeXhXtX XmXaX XI\"\n",
    "\n",
    "# Define the variable 'message' in the line hereunder\n",
    "\n",
    "\n",
    "# Do no alter the line hereunder\n",
    "print(message)"
   ]
  },
  {
   "cell_type": "markdown",
   "metadata": {},
   "source": [
    "### 2.4 String methods"
   ]
  },
  {
   "cell_type": "markdown",
   "metadata": {},
   "source": [
    "Now that we know how to store strings, let's see how we can change them using **string methods**. String methods let you perform specific tasks for strings. We'll focus on four common string methods:\n",
    "1. `len()`\n",
    "2. `lower()`\n",
    "3. `upper()`\n",
    "4. `str()`"
   ]
  },
  {
   "cell_type": "markdown",
   "metadata": {},
   "source": [
    "The `len()` method returns the number of characters of a string. Try it yourself hereunder. Create a variable named `parrot` and set it to the string `\"Norwegian Blue\"`. On the next line, type `print(len(parrot))`. The output will be the number of letters in `\"Norwegian Blue\"` (14)."
   ]
  },
  {
   "cell_type": "code",
   "execution_count": null,
   "metadata": {
   },
   "outputs": [],
   "source": [
    "parrot = \"Norwegian Blue\"\n",
    "print(len(parrot))"
   ]
  },
  {
   "cell_type": "markdown",
   "metadata": {},
   "source": [
    "The `lower()` method can be used to get rid of all the capitalizations in your strings. `upper()` is a similar method, which makes a string completely upper case:"
   ]
  },
  {
   "cell_type": "code",
   "execution_count": null,
   "metadata": {
    "scrolled": false
   },
   "outputs": [],
   "source": [
    "text = 'Hello World'\n",
    "print(text.lower())\n",
    "print(text.upper())"
   ]
  },
  {
   "cell_type": "markdown",
   "metadata": {},
   "source": [
    "Now, try it yourself in the box below. Print out the content of the variable `parrot`, once in lower case, once in upper case."
   ]
  },
  {
   "cell_type": "code",
   "execution_count": null,
   "metadata": {
   },
   "outputs": [],
   "source": [
    "\n"
   ]
  },
  {
   "cell_type": "markdown",
   "metadata": {},
   "source": [
    "Now let's look at `str()`. The `str()` method turns non-strings into strings. Try it yourself below: create a variable `pi`, and set it to `3.14`. Then execute the box."
   ]
  },
  {
   "cell_type": "code",
   "execution_count": null,
   "metadata": {
   },
   "outputs": [],
   "source": [
    "\n",
    "\n",
    "# Do not alter the code below\n",
    "print(str(pi))"
   ]
  },
  {
   "cell_type": "markdown",
   "metadata": {},
   "source": [
    "As a last point in this section, you might have noticed that you use `len(string)` and `str(object)`, but dot notation (such as `\"String\".upper()`) for the other methods. Methods that use dot notation only work with a specific data type, such as strings. In contrast, `len()`and `str()`can work on other data types as well."
   ]
  },
  {
   "cell_type": "markdown",
   "metadata": {},
   "source": [
    "### 2.5. Printing variables: String formatting"
   ]
  },
  {
   "cell_type": "markdown",
   "metadata": {},
   "source": [
    "As we have already proven before, variables can be printed easily with the `print` command. In the line below, declare a variable `the_machine_goes` and assign it the string value `\"Ping!\"`. Print the variable `the_machine_goes`."
   ]
  },
  {
   "cell_type": "code",
   "execution_count": null,
   "metadata": {
   },
   "outputs": [],
   "source": [
    "\n"
   ]
  },
  {
   "cell_type": "markdown",
   "metadata": {},
   "source": [
    "Sometimes you need to combine a string with something that isn't a string. In order to do that, you have to convert the non-string into a string. The `str()` method converts non-strings into strings. Try it yourself with the code below. You get an error if you run the code as-is. Now, use `str()` to turn `3.14` into a string, and run the code again."
   ]
  },
  {
   "cell_type": "code",
   "execution_count": null,
   "metadata": {
   },
   "outputs": [],
   "source": [
    "print(\"The value is \" + 3.14)"
   ]
  },
  {
   "cell_type": "markdown",
   "metadata": {},
   "source": [
    "When you want to print a variable with a string, there is a better method than concatenating strings together. The `format` method is used to combine a string with variables. It will will replace a `{}` **placeholder** in the string with a variable passed to the `format` method. As an example, execute the code below. [Click here](http://docs.python.org/3/library/stdtypes.html#str.format) for more examples and details."
   ]
  },
  {
   "cell_type": "code",
   "execution_count": null,
   "metadata": {
   },
   "outputs": [],
   "source": [
    "string_1 = \"Camelot\"\n",
    "string_2 = \"place\"\n",
    "\n",
    "print(\"Let's not go to {}. 'Tis a silly {}.\".format(string_1, string_2))"
   ]
  },
  {
   "cell_type": "markdown",
   "metadata": {},
   "source": [
    "There is a second (older) method to insert variables into strings, which is still often used. The same example in the old style:"
   ]
  },
  {
   "cell_type": "code",
   "execution_count": null,
   "metadata": {
   },
   "outputs": [],
   "source": [
    "string_1 = \"Camelot\"\n",
    "string_2 = \"place\"\n",
    "\n",
    "print(\"Let's not go to %s. 'Tis a silly %s.\" % (string_1, string_2))"
   ]
  },
  {
   "cell_type": "markdown",
   "metadata": {},
   "source": [
    "You need the same number of `{}` placeholders in a string as the number of arguments to the `format` method. Try it yourself: in the code below, assign an arbitrary string to `name`, `quest`, and `color`. Furthermore, replace the three `___` by the correct formatting code."
   ]
  },
  {
   "cell_type": "code",
   "execution_count": null,
   "metadata": {
   },
   "outputs": [],
   "source": [
    "name = \n",
    "quest = \n",
    "color = \n",
    "\n",
    "print(\"Ah, so your name is ___, your quest is ___, and your favorite color is ___.\".format(name, quest, color))"
   ]
  },
  {
   "cell_type": "markdown",
   "metadata": {},
   "source": [
    "Before ending this section, we shortly mention that the placeholders above can also be used to format numbers. For instance, in section 1.4, when calculating the total cost of the restaurant visit, we used the placeholder `.2f` to print a real number with exactly two decimals."
   ]
  },
  {
   "cell_type": "markdown",
   "metadata": {},
   "source": [
    "<br/>"
   ]
  },
  {
   "cell_type": "markdown",
   "metadata": {},
   "source": [
    "## Chapter 3: Conditional Statements and Control Flow"
   ]
  },
  {
   "cell_type": "markdown",
   "metadata": {},
   "source": [
    "### 3.1. Comparators"
   ]
  },
  {
   "cell_type": "markdown",
   "metadata": {},
   "source": [
    "Let's start with the simplest aspect of control flow: **comparators**. There are six:\n",
    "1. Equal to (`==`)\n",
    "2. Not equal to (`!=`)\n",
    "3. Less than (`<`)\n",
    "4. Less than or equal to (`<=`)\n",
    "5. Greater than (`>`)\n",
    "6. Greater than or equal to (`>=`)\n",
    "\n",
    "Comparators check if a value is (or is not) equal to, greater than (or equal to), or less than (or equal to) another value, and return a boolean. Note that `==` compares whether two things are equal, and `=` assigns a value to a variable. To give an example:"
   ]
  },
  {
   "cell_type": "code",
   "execution_count": null,
   "metadata": {
   },
   "outputs": [],
   "source": [
    "print(2 == 3) # returns False\n",
    "print(4 != 3)# returns True\n",
    "print(2.9 < 3) # return True\n",
    "print(4 <= 3) # returns False\n",
    "print(5 > 5) # returns False\n",
    "print(5 >= 5) # returns True"
   ]
  },
  {
   "cell_type": "markdown",
   "metadata": {},
   "source": [
    "### 3.2. To be and/or not to be"
   ]
  },
  {
   "cell_type": "markdown",
   "metadata": {},
   "source": [
    "**Boolean operators** compare statements and result in boolean values. There are three boolean operators, two binary and one unary:\n",
    "1. `and` is a binary boolean operator which checks if both statements are `True`. If this is the case, it returns `True`, otherwise it returns `False`.\n",
    "2. `or` is a binary boolean operator which checks if *at least* one of the statements is `True`. If this is the case, it returns `True`, otherwise it returns `False`.\n",
    "3. `not` is the only unary boolean operator, and gives the opposite of the following statement.\n",
    "\n",
    "Regarding **precedence**, these Boolean operators are evaluated after the normal arithmetic evaluations discussed in section 1.3. Within the set of Boolean operators, the following precedence is valid (unless parentheses are used):\n",
    "\n",
    "1. `not` is evaluated first\n",
    "2. `and` is evaluated next\n",
    "3. `or` is evaluated next\n",
    "\n",
    "Moreover, the left-hand side of the binary operators are evaluated before their right-hand side, if the right-hand side is evaluated at all. For instance, if the left-hand side of the `and` operator is a statement which is `False`, the resulting operation will be `False`, irrespective of the right-hand side, and this right-hand side will not even be evaluated. This can for instance be useful if you want to check a variety of conditions to be met, each one more stringent than the preceding one, for which it makes no sense to evaluate the more stringent condition if a less stringent condition is not met."
   ]
  },
  {
   "cell_type": "markdown",
   "metadata": {},
   "source": [
    "### 3.3. Conditional statement syntax: If, else, elif"
   ]
  },
  {
   "cell_type": "markdown",
   "metadata": {},
   "source": [
    "`if` is a **conditional statement** that executes some specified code after checking if its expression is `True`. This specified code needs to be indented, and will be skipped if the conditional statement evaluates as `False`. Also, make sure you notice the colons at the end of the `if` statement, as missing them will result in an error. Below, a working example is given."
   ]
  },
  {
   "cell_type": "code",
   "execution_count": null,
   "metadata": {
   },
   "outputs": [],
   "source": [
    "number_1 = 10\n",
    "number_2 = 4\n",
    "if number_1 > number_2:\n",
    "    print(\"{:d} is the largest number\".format(number_1))"
   ]
  },
  {
   "cell_type": "markdown",
   "metadata": {},
   "source": [
    "The `else` statement complements the `if` statement. An `if`/`else` pair says: \"If this expression is true, run this indented code block, otherwise, run this code after the else statement.\"\n",
    "\n",
    "Unlike `if`, `else` doesn't depend on an expression (as it is the other option), but still needs a colon. For example:"
   ]
  },
  {
   "cell_type": "code",
   "execution_count": null,
   "metadata": {
   },
   "outputs": [],
   "source": [
    "number_1 = 3\n",
    "number_2 = 4\n",
    "if number_1 > number_2:\n",
    "    print(\"{:d} is the largest number\".format(number_1))\n",
    "else:\n",
    "    print(\"{:d} is the largest number\".format(number_2))"
   ]
  },
  {
   "cell_type": "markdown",
   "metadata": {},
   "source": [
    "`elif` is short for \"else if\". It means exactly what it sounds like: \"otherwise, if the following expression is true, do this.\" This `elif` statement is only checked if the original `if` statement is `False`. Note that *Python* does not provide a switch statement, which some of you may know from other programming languages. This `elif` statement is an alternative."
   ]
  },
  {
   "cell_type": "markdown",
   "metadata": {},
   "source": [
    "The following function, `greater_less_equal_5` should return `1` if the `answer` is greater than `5`, `-1` if the answer is smaller than `5`, and `0` otherwise. Fill in the two `___` such that the function has this functionality."
   ]
  },
  {
   "cell_type": "code",
   "execution_count": null,
   "metadata": {
   },
   "outputs": [],
   "source": [
    "def greater_less_equal_5(answer):\n",
    "    if ____:      # Change the statement ____ here\n",
    "        return 1\n",
    "    elif ____:    # Change the statement ____ here\n",
    "        return -1\n",
    "    else:\n",
    "        return 0\n",
    "\n",
    "# Do not change the lines below\n",
    "print(greater_less_equal_5(4))\n",
    "print(greater_less_equal_5(5))\n",
    "print(greater_less_equal_5(6))"
   ]
  },
  {
   "cell_type": "markdown",
   "metadata": {},
   "source": [
    "<br/>"
   ]
  },
  {
   "cell_type": "markdown",
   "metadata": {},
   "source": [
    "## Chapter 4: The Pig Latin translator challenge"
   ]
  },
  {
   "cell_type": "markdown",
   "metadata": {},
   "source": [
    "Now let's take what we've learned so far and write a Pig Latin translator.\n",
    "\n",
    "Pig Latin is a language game where you move the first letter of the word to the end and add \"ay\". So \"Python\" becomes \"ythonpay\", and \"excitement\" becomes \"xcitementay\". To write a Pig Latin translator in *Python*, here are the steps we'll need to take:\n",
    "\n",
    "1. Ask the user to input a word in English\n",
    "2. Make sure the user entered a valid word\n",
    "3. Convert the word from English to Pig Latin, according to the rules above\n",
    "4. Display the translation result\n",
    "\n",
    "Below, some more information is given for each of these steps."
   ]
  },
  {
   "cell_type": "markdown",
   "metadata": {},
   "source": [
    "### 4.1. The input"
   ]
  },
  {
   "cell_type": "markdown",
   "metadata": {},
   "source": [
    "The `input` command (for users of *Python 2.x*, this coincides with the `raw_input` command) accepts a string, such as `\"Short clarifying sentence: \"`, prints it to the screen, and then waits for the user to type something and press Enter. Once Enter has been pressed, the user's input is stored in the variable (here `word`). For instance: `word = input(\"Short clarifying sentence\")`"
   ]
  },
  {
   "cell_type": "markdown",
   "metadata": {},
   "source": [
    "### 4.2. Check whether the input is valid"
   ]
  },
  {
   "cell_type": "markdown",
   "metadata": {},
   "source": [
    "For a word to be valid, two criteria need to be met:\n",
    "1. The length of the entered word has to be greater than 0. If this is not the case, print `\"Incorrect input!\"`. \n",
    "2. The entered word can only contain alphabetical characters. You can use the `\"String\".isalpha()` method to check this. If other characters are found, again print `\"Incorrect input!\"`."
   ]
  },
  {
   "cell_type": "markdown",
   "metadata": {},
   "source": [
    "### 4.3. Translation to Pig Latin"
   ]
  },
  {
   "cell_type": "markdown",
   "metadata": {},
   "source": [
    "Now we can get ready to start translating to Pig Latin! If the input `word` is correct, do the following:\n",
    "1. Convert the input `word` to lowercase\n",
    "2. Create a variable named `pyg` that holds the suffix `\"ay\"`\n",
    "3. Create a variable named `first` that holds the first letter of the input `word`\n",
    "4. Concatenate the first letter and the suffix (in that order) to the  original word, and store it in `new_word`. \n",
    "5. Now we have the first letter showing up both at the beginning and near the end. Slice `new_word` such that the first character is no longer present."
   ]
  },
  {
   "cell_type": "markdown",
   "metadata": {},
   "source": [
    "### 4.4. Display the result"
   ]
  },
  {
   "cell_type": "markdown",
   "metadata": {},
   "source": [
    "Finally, print the resulting sliced word.\n",
    "\n",
    "You should have a fully functioning Pig Latin translator. Test your code thorougly to be sure everything is working smoothly.\n",
    "\n",
    "You'll also want to take out any print statements you were using to help debug intermediate steps of your code. Now might be a good time to add some comments too! Making sure your code is clean, commented, and fully functional is just as important as writing it in the first place."
   ]
  },
  {
   "cell_type": "code",
   "execution_count": null,
   "metadata": {
   },
   "outputs": [],
   "source": [
    "\n",
    "\n",
    "\n",
    "\n",
    "\n",
    "\n",
    "\n",
    "\n",
    "\n",
    "\n"
   ]
  },
  {
   "cell_type": "markdown",
   "metadata": {},
   "source": [
    "<br/>"
   ]
  },
  {
   "cell_type": "markdown",
   "metadata": {},
   "source": [
    "Congratulations: You passed the first notebook!"
   ]
  }
 ],
 "metadata": {
  "kernelspec": {
   "display_name": "Python 3",
   "language": "python",
   "name": "python3"
  },
  "language_info": {
   "codemirror_mode": {
    "name": "ipython",
    "version": 2
   },
   "file_extension": ".py",
   "mimetype": "text/x-python",
   "name": "python",
   "nbconvert_exporter": "python",
   "pygments_lexer": "ipython2",
   "version": "2.7.13"
  }
 },
 "nbformat": 4,
 "nbformat_minor": 2
}
