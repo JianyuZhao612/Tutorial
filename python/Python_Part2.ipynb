{
 "cells": [
  {
   "cell_type": "markdown",
   "metadata": {},
   "source": [
    "# Learning the ropes of *Python*"
   ]
  },
  {
   "cell_type": "markdown",
   "metadata": {},
   "source": [
    "Welcome in this four-part notebook which aims to prepare you to use *Python* during your master dissertation. As these notebooks start from scratch, some of these topics may seem too simple. Of course, feel free to skip those topics that are too easy, and concentrate on the harder ones (or the challenges at the end of each notebook).\n",
    "\n",
    "The *Python* notebooks are divided in four parts:\n",
    "1. The Basics: Syntax, Strings, and Conditionals\n",
    "2. Functions and Classes\n",
    "3. Lists, Loops, Dictionaries, and File I/O\n",
    "4. NumPy and Matplotlib\n",
    "\n",
    "In every notebook, we have not only provided an introduction to each subject, but also some small tests and larger challenges for you to tackle. This is the ideal way to verify whether you completely understand the topics at hand. \n",
    "\n",
    "Note that we cannot be exhaustive. However, these notebooks aim to get you started with *Python* with minimum effort. Further details can be found on the [*Python* homepage](http://docs.python.org/3/). Special thanks goes out to [Codecademy](http://www.codecademy.com), the online platform that was used as the basis of many of the examples given below."
   ]
  },
  {
   "cell_type": "markdown",
   "metadata": {},
   "source": [
    "# Part 2: Functions and Classes"
   ]
  },
  {
   "cell_type": "markdown",
   "metadata": {},
   "source": [
    "*Python is a truly wonderful language. When somebody comes up with a good idea it takes about 1 minute and five lines to program something that almost does what you want. Then it takes only an hour to extend the script to 300 lines, after which it still does almost what you want.*<br/>\n",
    "<div style=\"text-align: right\"> -- Jack Jansen, Dutch computer scientist </div>"
   ]
  },
  {
   "cell_type": "markdown",
   "metadata": {},
   "source": [
    "## Chapter 5: Functions"
   ]
  },
  {
   "cell_type": "markdown",
   "metadata": {},
   "source": [
    "You might have considered the situation where you would like to reuse a piece of code, just with a few different values. Instead of rewriting the whole code, it's much cleaner to define a **function**, which can then be used repeatedly."
   ]
  },
  {
   "cell_type": "markdown",
   "metadata": {},
   "source": [
    "### 5.1. Function syntax"
   ]
  },
  {
   "cell_type": "markdown",
   "metadata": {},
   "source": [
    "Let's revisit the Tip Calculator from the previous notebook, in which we were interested in calculating the true cost of a meal, given the price on the menu, the tax rate, and the tip. As we might be interested in visiting a US restaurant more than once, it might be worthwhile to fit our workflow in a few functions. An example of how this might work is given below."
   ]
  },
  {
   "cell_type": "code",
   "execution_count": null,
   "metadata": {
   },
   "outputs": [],
   "source": [
    "def tax(bill):\n",
    "    \"\"\"Adds 8% tax to a restaurant bill.\"\"\"\n",
    "    bill *= 1.08\n",
    "    print(\"With tax: {:f}\".format(bill))\n",
    "    return bill\n",
    "\n",
    "def tip(bill):\n",
    "    \"\"\"Adds 15% tip to a restaurant bill.\"\"\"\n",
    "    bill *= 1.15\n",
    "    print(\"With tip: {:f}\".format(bill))\n",
    "    return bill\n",
    "    \n",
    "meal_cost = 100\n",
    "meal_with_tax = tax(meal_cost)\n",
    "meal_with_tip = tip(meal_with_tax)"
   ]
  },
  {
   "cell_type": "markdown",
   "metadata": {},
   "source": [
    "In this program, we have defined two functions: `tax`, which calculates the tax on the bill, and `tip`, to compute the tip."
   ]
  },
  {
   "cell_type": "markdown",
   "metadata": {},
   "source": [
    "Functions are defined with four components:\n",
    "1. The **header**, which includes the `def` keyword, the name of the function, and any **parameters** the function requires in between brackets. For instance, the functions `tax` and `tip` above only required the `bill` parameter.\n",
    "2. An optional, but strongly recommended **comment** that explains what the function does.\n",
    "3. The **body**, which describes the procedures the function carries out. The body is *indented*, just like for conditional statements. \n",
    "4. An optional **return** statement, consisting of the keyword `return` followed by the results that need to be outputted by the program. If the program does not need to provide any output (but, for instance, prints a result to the screen), this `return` statement can be omitted."
   ]
  },
  {
   "cell_type": "markdown",
   "metadata": {},
   "source": [
    "After defining a function, it must be **called** to be implemented. In the Tip Calculator exercise, the `tax(meal_cost)` told the program to look for the function `tax`, provide it with the input `meal_cost`, and return the result. When defining this `tax` function, `bill` was used as a **parameter**. A parameter acts as a variable name for a passed **argument**. In the previous example, we called `tax` with the argument `meal_cost`. In the instance the function was called, `tax` holds the value held by `meal_cost`.\n",
    "\n",
    "A function can require as many parameters as you'd like, but when you call the function, you should generally pass in a matching number of arguments."
   ]
  },
  {
   "cell_type": "markdown",
   "metadata": {},
   "source": [
    "As a second example, let's define a function, `power`, that takes in two parameters, and calculates the result of raising the `base` to the given `exponent`. However, we forgot to define the parameters of the function in the first line. Add these parameters, and test your function by calling it on the last line with a `base` of `37` and a `power` of `4`. The result should be `1874161`."
   ]
  },
  {
   "cell_type": "code",
   "execution_count": null,
   "metadata": {
   },
   "outputs": [],
   "source": [
    "def power():  # Add your parameters here!\n",
    "    result = base**exponent\n",
    "    print(\"{} to the power of {} is {}.\" % (base, exponent, result))\n",
    "\n",
    "# Call the function with a base of 37 and a power of 4 on the line below\n"
   ]
  },
  {
   "cell_type": "markdown",
   "metadata": {},
   "source": [
    "We've seen functions that can print text or do simple arithmetic, but functions can be much more powerful than that. For example, a function can call another function (or itself). Try it yourself with the example below."
   ]
  },
  {
   "cell_type": "markdown",
   "metadata": {},
   "source": [
    "First, define a function called `cube` that takes an argument called `number`. Don't forget the parentheses and the colon. Make that function return the cube of that number (*i.e.*, that number multiplied by itself and multiplied by itself once again).\n",
    "\n",
    "Second, define another function, called `by_three`, that takes an argument called `number`. If that `number` is divisible by 3, `by_three` should call `cube` on that `number` and return its result. Otherwise, `by_three` should return `False`."
   ]
  },
  {
   "cell_type": "code",
   "execution_count": null,
   "metadata": {
   },
   "outputs": [],
   "source": [
    "# Define the function cube on the lines below.\n",
    "\n",
    "\n",
    "\n",
    "# Define the function by_three on the lines below.\n",
    "\n",
    "\n",
    "\n",
    "\n",
    "\n",
    "    \n",
    "# Do not alter the following lines\n",
    "print(by_three(5)) # should return False\n",
    "print(by_three(6)) # should return 216"
   ]
  },
  {
   "cell_type": "markdown",
   "metadata": {},
   "source": [
    "### 5.2. Importing modules"
   ]
  },
  {
   "cell_type": "markdown",
   "metadata": {},
   "source": [
    "A **module** is a file that contains definitions--including variables and functions--that you can use once it is **imported**.\n",
    "\n",
    "Before we try any fancy importing, let's see what *Python* already knows about square roots. In the box hereunder, try to execute the command to print the square root of 25."
   ]
  },
  {
   "cell_type": "code",
   "execution_count": null,
   "metadata": {
   },
   "outputs": [],
   "source": [
    "print(sqrt(25))"
   ]
  },
  {
   "cell_type": "markdown",
   "metadata": {},
   "source": [
    "Did you see that? *Python* said: `\"NameError: name 'sqrt' is not defined.\"` *Python* doesn't know what square roots are—yet.\n",
    "\n",
    "There is a *Python* module named `math` that includes a number of useful variables and functions, and `sqrt()` is one of those functions. In order to access `math`, all you need is the `import` keyword. When you simply import a module this way, it's called a **generic import**."
   ]
  },
  {
   "cell_type": "markdown",
   "metadata": {},
   "source": [
    "Try it yourself. Type `import math` in the box below, and try again to print the square root of 25. However, you will have to use `math.sqrt()` instead of simply `sqrt()` to tell *Python* where to find the square root function."
   ]
  },
  {
   "cell_type": "code",
   "execution_count": null,
   "metadata": {
   },
   "outputs": [],
   "source": [
    "\n"
   ]
  },
  {
   "cell_type": "markdown",
   "metadata": {},
   "source": [
    "Good work! However, we only really needed the `sqrt` function, and it can be frustrating to have to keep typing `math.sqrt()`. Luckily, it is possible to import only certain variables or functions from a given module. Pulling in just a single function from a module is called a **function import**, and it's done with the `from` keyword. In the box below, we imported *only* the `sqrt` function from the `math` module. Now, you can use it by just calling `sqrt()` instead of `math.sqrt()`."
   ]
  },
  {
   "cell_type": "code",
   "execution_count": null,
   "metadata": {
   },
   "outputs": [],
   "source": [
    "from math import sqrt\n",
    "print(sqrt(25))"
   ]
  },
  {
   "cell_type": "markdown",
   "metadata": {},
   "source": [
    "What if we still want all the variables and functions in a module, but don't want to have to constantly type `math.`? **Wild card import** can handle this for you. The syntax for this is given below."
   ]
  },
  {
   "cell_type": "code",
   "execution_count": null,
   "metadata": {
   },
   "outputs": [],
   "source": [
    "from math import *\n",
    "print(sqrt(25))"
   ]
  },
  {
   "cell_type": "markdown",
   "metadata": {},
   "source": [
    "Wild card imports may look great on the surface, but they're not a good idea for one very important reason: they fill your program with a *ton* of variable and function names without the safety of those names still being associated with the module(s) they came from. Interested in what you just imported? The `dir()` command lists the content of the `module` on which it is called. Let's see what's in math..."
   ]
  },
  {
   "cell_type": "code",
   "execution_count": null,
   "metadata": {
   },
   "outputs": [],
   "source": [
    "import math\n",
    "print(dir(math))"
   ]
  },
  {
   "cell_type": "markdown",
   "metadata": {},
   "source": [
    "If you have a function of your very own named `sqrt` and you `import math`, your function is safe: there is your `sqrt` and there is `math.sqrt`. If you do `from math import *`, however, you have a problem: namely, two different functions with the exact same name.\n",
    "\n",
    "Even if your own definitions don't directly conflict with names from imported modules, if you `import *` from several modules at once, you won't be able to figure out which variable or function came from where.\n",
    "\n",
    "For these reasons, it's best to stick with either `import module` and type `module.name` or just `import` specific variables and functions from various modules as needed."
   ]
  },
  {
   "cell_type": "markdown",
   "metadata": {},
   "source": [
    "As a last remark, it is also possible to `import` modules or functions with an **alias** using `import module as alias` (for module aliases) or `from module import function as alias` (for function aliases). This is a middleground between universal imports and generic imports, in which the sometimes long module or function name can be shortened. A contrived example (`math` isn't exactly a long name) is given below."
   ]
  },
  {
   "cell_type": "code",
   "execution_count": null,
   "metadata": {
   },
   "outputs": [],
   "source": [
    "import math as mth\n",
    "print(mth.sqrt(25))\n",
    "\n",
    "from math import sqrt as sr\n",
    "print(sr(25))"
   ]
  },
  {
   "cell_type": "markdown",
   "metadata": {},
   "source": [
    "### 5.3. Built-in functions"
   ]
  },
  {
   "cell_type": "markdown",
   "metadata": {},
   "source": [
    "Now that you understand what functions are and how to import modules, let's look at some of the functions that are built in to *Python* (no modules required!). You can find a complete list of these functions [here](http://docs.python.org/2/library/functions.html).\n",
    "\n",
    "You already know about some of the built-in functions we've used with strings, such as `.upper()`, `.lower()`, `str()`, `print()`, and `len()`, as well as the `type()` function we've used in the very beginning to find the data type of a variable or the `dir()` function we just used. What about something a little more analytic?"
   ]
  },
  {
   "cell_type": "markdown",
   "metadata": {},
   "source": [
    "The `max()` function takes any number of arguments and returns the largest one. (\"Largest\" can have odd definitions here, so it's best to use `max()` on integers and floats, where the results are straightforward, and not on other objects, like strings.) Try it yourself, by calling `max` on any three numbers in the first line below."
   ]
  },
  {
   "cell_type": "code",
   "execution_count": null,
   "metadata": {
   },
   "outputs": [],
   "source": [
    "# Call the max function below on any three numbers\n",
    "maximum = \n",
    "\n",
    "# Don't alter the following line\n",
    "print(maximum)"
   ]
  },
  {
   "cell_type": "markdown",
   "metadata": {},
   "source": [
    "As you might have guessed, `min()` does the exact opposite, and returns the smallest of a given series of arguments.\n",
    "\n",
    "The `abs()` function returns the **absolute value** of the number it takes as an argument. Unlike `max()` and `min()`, it takes only a single number."
   ]
  },
  {
   "cell_type": "markdown",
   "metadata": {},
   "source": [
    "### 5.4. Recap: some small functions"
   ]
  },
  {
   "cell_type": "markdown",
   "metadata": {},
   "source": [
    "To recap, we have provided below the outset for four (small) functions. Try to combine everything you have learned so far to obtain the correct output. In the next section, a longer assessment is provided, an more elaborate challenges can be found at the end of this notebook."
   ]
  },
  {
   "cell_type": "markdown",
   "metadata": {},
   "source": [
    "In the box below, define a function, `distance_from_zero`, with one argument. If the type of the argument is an integer or a float, return the absolute value of the argument. If the type of the argument is different, the function should return `\"Nope\"`."
   ]
  },
  {
   "cell_type": "code",
   "execution_count": null,
   "metadata": {
   },
   "outputs": [],
   "source": [
    "# Define the function distance_from_zero on the lines below\n",
    "\n",
    "\n",
    "\n",
    "\n",
    "\n",
    "    \n",
    "# Do not alter the lines below\n",
    "print(distance_from_zero(-5))      # Should print 5\n",
    "print(distance_from_zero(32.7))    # Should print 32.7\n",
    "print(distance_from_zero(\"20\"))    # Should print \"Nope\""
   ]
  },
  {
   "cell_type": "markdown",
   "metadata": {},
   "source": [
    "In the box below, define a function, `is_even`, that takes a number as input. If the number is even, it returns `True`; otherwise, it returns `False`."
   ]
  },
  {
   "cell_type": "code",
   "execution_count": null,
   "metadata": {
   },
   "outputs": [],
   "source": [
    "# Define the function is_even on the lines below\n",
    "\n",
    "\n",
    "\n",
    "    \n",
    "# Do not alter the lines below\n",
    "print(is_even(20))      # Should print True\n",
    "print(is_even(21))      # Should print False"
   ]
  },
  {
   "cell_type": "markdown",
   "metadata": {},
   "source": [
    "In the box below, define a function, `is_int`, that takes a number as input. Have it return `True` if the number is an integer, and `False` if not. However, note that numbers such as 7.0, which appear to be a float, need also be considered as an integer."
   ]
  },
  {
   "cell_type": "code",
   "execution_count": null,
   "metadata": {
   },
   "outputs": [],
   "source": [
    "# Define the function is_int on the lines below\n",
    "\n",
    "\n",
    "\n",
    "\n",
    "# Do not alter the lines below\n",
    "print(is_int(5))        # Should print True\n",
    "print(is_int(5.1))      # Should print False\n",
    "print(is_int(5.0))      # Should print True"
   ]
  },
  {
   "cell_type": "markdown",
   "metadata": {},
   "source": [
    "In the box below, define a function, `factorial`, that takes a positive integer `n` as input and returns `n!` (*i.e.*, `n*(n-1)*...*1`)."
   ]
  },
  {
   "cell_type": "code",
   "execution_count": null,
   "metadata": {
   },
   "outputs": [],
   "source": [
    "# Define the function factorial on the lines below\n",
    "\n",
    "\n",
    "\n",
    "\n",
    "\n",
    "    \n",
    "# Do not alter the lines below\n",
    "print(is_factorial(1))     # Should print 1\n",
    "print(is_factorial(5))     # Should print 120"
   ]
  },
  {
   "cell_type": "markdown",
   "metadata": {},
   "source": [
    "### 5.5. Test: Taking a vacation"
   ]
  },
  {
   "cell_type": "markdown",
   "metadata": {},
   "source": [
    "When planning a vacation, it's very important to know exactly how much you're going to spend. Here, we will define a series of functions which will help you predict the amount of money you will need to go on a holiday.\n",
    "\n",
    "1. Define a function called `hotel_cost`, with one argument (`nights`) as input. The hotel costs 140 dollars per night. The function should return the total cost of the hotel.\n",
    "2. Define a function called `plane_cost` that takes a string, `city`, as input. The function should return a different price depending on the location. The valid destinations and their corresponding round-trip prices are:\n",
    "  * `\"Charlotte\"`: 183 dollars\n",
    "  * `\"Tampa\"`: 220 dollars\n",
    "  * `\"Pittsburgh\"`: 222 dollars\n",
    "  * `\"Los Angeles\"`: 475 dollars\n",
    "3. Define a function called `rental_car_cost` with an argument called `days`. Calculate and return the cost of renting the car, keeping the following in mind:\n",
    "  * Every day you rent the car costs 40 dollars\n",
    "  * If you rent the car for 7 or more days, you get 50 dollars off your total\n",
    "  * *Alternatively*, if you rent the car for 3 or more days, you get 20 dollars off your total (but you cannot get both discounts)\n",
    "4. Finally, define a function called `trip_cost` that takes three arguments: `city`, `days`, and `spending_money`. Have your function return the sum of the costs associated with renting a car, booking the hotel, and booking the plane ticket, and add this to the variable `spending_money`, which is the money you have at your disposal during the trip. Note that the hotel cost is expressed in number of nights; you may assume that you only stay in the hotel at nights in between two days you're on the trip.\n",
    "5. After your previous code, print out the total trip cost to Los Angeles for 5 days, with an extra 600 dollars of spending money."
   ]
  },
  {
   "cell_type": "code",
   "execution_count": null,
   "metadata": {
   },
   "outputs": [],
   "source": [
    "# Define the function hotel_cost on the lines below\n",
    "\n",
    "\n",
    "\n",
    "# Define the function plane_cost on the lines below\n",
    "\n",
    "\n",
    "\n",
    "\n",
    "\n",
    "\n",
    "# Define the function rental_car_cost on the lines below\n",
    "\n",
    "\n",
    "\n",
    "\n",
    "\n",
    "\n",
    "# Define the function trip_cost on the lines below\n",
    "\n",
    "\n",
    "\n",
    "    \n",
    "# In the lines below, print out the total trip cost to LA for 5 days\n"
   ]
  },
  {
   "cell_type": "markdown",
   "metadata": {},
   "source": [
    "If everything went well, you should have obtained a cost of 1815 dollars."
   ]
  },
  {
   "cell_type": "markdown",
   "metadata": {},
   "source": [
    "<br/>"
   ]
  },
  {
   "cell_type": "markdown",
   "metadata": {},
   "source": [
    "## Chapter 6: Lambda (or anonymous) functions"
   ]
  },
  {
   "cell_type": "markdown",
   "metadata": {},
   "source": [
    "One of the more powerful aspects of *Python* is that it allows for a style of programming called **functional programming**, which means that you're allowed to pass functions around just as if they were variables or values. Sometimes we take this for granted, but not all languages allow this!"
   ]
  },
  {
   "cell_type": "markdown",
   "metadata": {},
   "source": [
    "### 6.1. Lambda syntax"
   ]
  },
  {
   "cell_type": "markdown",
   "metadata": {},
   "source": [
    "Check out the code below. Typing"
   ]
  },
  {
   "cell_type": "code",
   "execution_count": null,
   "metadata": {
   },
   "outputs": [],
   "source": [
    "lambda x: x % 3 == 0"
   ]
  },
  {
   "cell_type": "markdown",
   "metadata": {},
   "source": [
    "Is the same as"
   ]
  },
  {
   "cell_type": "code",
   "execution_count": null,
   "metadata": {
   },
   "outputs": [],
   "source": [
    "def by_three(x):\n",
    "    return x % 3 == 0"
   ]
  },
  {
   "cell_type": "markdown",
   "metadata": {},
   "source": [
    "Only we don't need to actually give the function a name; it does its work and returns a value without one. That's why the function the lambda creates is an **anonymous function**.\n",
    "\n",
    "When we pass the `lambda` to `filter`, `filter` uses the `lambda` to determine what to **filter**, and the second argument is the list it does the filtering on. For now, it is sufficient to know that a list is a collection of variables, but more on lists in the next notebook.\n",
    "\n",
    "In the chunk of code below, for instance, we create a list `my_list` containing the numbers from 0 to 15 (inclusive), and then filter out those numbers that are multiples of three. Note that, from *Python 3.0* onwards, we need to recast the filter object as a list to obtain the actual filtered list, rather than the filter object."
   ]
  },
  {
   "cell_type": "code",
   "execution_count": null,
   "metadata": {
   },
   "outputs": [],
   "source": [
    "my_list = range(16)\n",
    "print(list(filter(lambda x: x % 3 == 0, my_list)))"
   ]
  },
  {
   "cell_type": "markdown",
   "metadata": {},
   "source": [
    "Lambdas are useful when you need a quick function to do some work for you.\n",
    "\n",
    "If you plan on creating a function you'll use over and over, you're better off using `def` and giving that function a name.\n",
    "\n",
    "In the code below, we've given you a list `languages`, containing four programming languages. Up to you to set up a `filter` and corresponding `lambda` to filter out `\"Python\"`."
   ]
  },
  {
   "cell_type": "code",
   "execution_count": null,
   "metadata": {
   },
   "outputs": [],
   "source": [
    "# Do not alter the following list\n",
    "languages = [\"HTML\", \"JavaScript\", \"Python\", \"Ruby\"]\n",
    "\n",
    "# Complete the right-hand side of the following line\n",
    "languages_filtered = \n",
    "\n",
    "# Do not alter the following line\n",
    "print(list(languages_filtered))"
   ]
  },
  {
   "cell_type": "markdown",
   "metadata": {},
   "source": [
    "### 6.2. A few more examples"
   ]
  },
  {
   "cell_type": "markdown",
   "metadata": {},
   "source": [
    "We created a list containing the squares of the numbers 1 to 10 in the box below and named it `squares`. Use `filter()` and a `lambda` expression to print out only the squares that are between 30 and 70 (inclusive). If everything goes well, you should obtain three numbers."
   ]
  },
  {
   "cell_type": "code",
   "execution_count": null,
   "metadata": {
   },
   "outputs": [],
   "source": [
    "# Do not alter the following list\n",
    "squares = [x**2 for x in range(1, 11)]\n",
    "\n",
    "# Create your own filtered list\n",
    "squares_filtered = \n",
    "\n",
    "# Do not alter the following line\n",
    "print(list(squares_filtered))"
   ]
  },
  {
   "cell_type": "markdown",
   "metadata": {},
   "source": [
    "Strings can be considered as a list of characters, and the `filter()` function can hence also be applied on a string. Below, we've given you a garbled string. Sort it out with a `filter()` and an appropriate `lambda` that will filter out the `\"X\"`s."
   ]
  },
  {
   "cell_type": "code",
   "execution_count": null,
   "metadata": {
   },
   "outputs": [],
   "source": [
    "# Do not alter the following string\n",
    "garbled = \"IXXX aXXmX aXXXnXoXXXXXtXhXeXXXXrX sXXXXeXcXXXrXeXt mXXeXsXXXsXaXXXXXXgXeX!XX\"\n",
    "\n",
    "# Create your own filtered message\n",
    "message = \n",
    "\n",
    "# Do not alter the following line \n",
    "#(and don't worry about the syntax, we will get to it later on)\n",
    "print(''.join(list(message)))"
   ]
  },
  {
   "cell_type": "markdown",
   "metadata": {},
   "source": [
    "<br/>"
   ]
  },
  {
   "cell_type": "markdown",
   "metadata": {},
   "source": [
    "## Chapter 7: Classes: A short introduction"
   ]
  },
  {
   "cell_type": "markdown",
   "metadata": {},
   "source": [
    "Here we are, at one of *Python*'s greatest virtues: **classes**. *Python* is an **object-oriented** programming language, which means it manipulates programming constructs called **objects**. You can think of an object as a single data structure that contains data as well as functions; functions of objects are called **methods**. For example, any time you call"
   ]
  },
  {
   "cell_type": "code",
   "execution_count": null,
   "metadata": {
   },
   "outputs": [],
   "source": [
    "len(\"Eric\")"
   ]
  },
  {
   "cell_type": "markdown",
   "metadata": {},
   "source": [
    "*Python* is checking whether the string object you passed it has a length, and if it does, it returns the value associated with that **attribute**. But what makes `\"Eric\"` a string? The fact that it is an **instance** of the `str` class. A class is just a way of organizing and producing objects with similar attributes and methods.\n",
    "\n",
    "Check out the code below. We've defined our *own* class, `Fruit`, and created a `lemon` instance."
   ]
  },
  {
   "cell_type": "code",
   "execution_count": null,
   "metadata": {
   },
   "outputs": [],
   "source": [
    "class Fruit():\n",
    "    \"\"\"A class that makes various tasty fruits.\"\"\"\n",
    "    def __init__(self, name, color, flavor, poisonous):\n",
    "        self.name = name\n",
    "        self.color = color\n",
    "        self.flavor = flavor\n",
    "        self.poisonous = poisonous\n",
    "\n",
    "    def description(self):\n",
    "        print(\"I'm a {} {} and I taste {}.\".format(self.color, self.name, self.flavor))\n",
    "\n",
    "    def is_edible(self):\n",
    "        if not self.poisonous:\n",
    "            print(\"Yep! I'm edible.\")\n",
    "        else:\n",
    "            print(\"Don't eat me! I am super poisonous.\")\n",
    "\n",
    "lemon = Fruit(\"lemon\", \"yellow\", \"sour\", False)\n",
    "\n",
    "lemon.description()\n",
    "lemon.is_edible()"
   ]
  },
  {
   "cell_type": "markdown",
   "metadata": {},
   "source": [
    "### 7.1. Class basics"
   ]
  },
  {
   "cell_type": "markdown",
   "metadata": {},
   "source": [
    "A basic class consists only of the `class` keyword, the name of the class, and the class from which the new class inherits in parentheses. (We'll get to **inheritance** soon.) For now, our classes won't inherit from any other class:"
   ]
  },
  {
   "cell_type": "code",
   "execution_count": null,
   "metadata": {
   },
   "outputs": [],
   "source": [
    "class NewClass():\n",
    "    \"\"\"Explanation about your class NewClass\"\"\"\n",
    "    pass"
   ]
  },
  {
   "cell_type": "markdown",
   "metadata": {},
   "source": [
    "This gives them the powers and abilities of a *Python* object. By convention, user-defined *Python* class names are written in **CamelCase**. In the previous class, the body solely consisted of the `pass` keyword. This keyword doesn't do anything, but it's useful as a placeholder in areas of your code where *Python* expects a statement."
   ]
  },
  {
   "cell_type": "markdown",
   "metadata": {},
   "source": [
    "We'd like our classes to do more than... well, *nothing*, so we'll have to replace our `pass` with something else.\n",
    "\n",
    "You may have noticed in our example back in the first exercise that we started our class definition off with an odd-looking function: `__init__()`. This function is present in most classes, and it's used to **initialize** the objects it creates. `__init__()` always takes at least one argument, `self`, that refers to the object being created. You can think of `__init__()` as the function that \"boots up\" each object the class creates.\n",
    "\n",
    "Try it yourself below: create a class called `Animal` in the box below, and define an `__init__()` function for this class. Pass it the argument `self` for now; we'll explain how this works in greater detail below. Finally, put the `pass` keyword as placeholder for the body of the `__init__()` definition, as it will expect an intended block."
   ]
  },
  {
   "cell_type": "code",
   "execution_count": null,
   "metadata": {
   },
   "outputs": [],
   "source": [
    "# Define your Animal class hereunder\n",
    "\n",
    "\n"
   ]
  },
  {
   "cell_type": "markdown",
   "metadata": {},
   "source": [
    "Let's make one more tweak to our class definition, then go ahead and **instantiate** (create) our first object.\n",
    "\n",
    "So far, `__init__()` only takes one parameter: `self`. This is a *Python* convention; there's nothing magic about the word `self`. However, it's overwhelmingly common to use `self` as the first parameter in `__init__()`, so you should do this so that other people will understand your code.\n",
    "\n",
    "The part that *is* magic is the fact that `self` is the *first* parameter passed to `__init__()`. *Python* will use the first parameter that `__init__()` receives to refer to the object being created; this is why it's often called `self`, since this parameter gives the object being created its identity."
   ]
  },
  {
   "cell_type": "markdown",
   "metadata": {},
   "source": [
    "Now, revisit your `Animal` class. In the box below, copy and paste your previous code. This time, pass a second parameter, `name`, to `__init()__`. In the body of `__init()__`, let the function know that `name` refers to the created object's name by typing `self.name = name`."
   ]
  },
  {
   "cell_type": "code",
   "execution_count": null,
   "metadata": {
   },
   "outputs": [],
   "source": [
    "# Redefine your Animal class hereunder\n",
    "\n",
    "\n"
   ]
  },
  {
   "cell_type": "markdown",
   "metadata": {},
   "source": [
    "Perfect! Now we're ready to start creating objects.\n",
    "\n",
    "We can access attributes of our objects using **dot notation**. Here's how it works:"
   ]
  },
  {
   "cell_type": "code",
   "execution_count": null,
   "metadata": {
   },
   "outputs": [],
   "source": [
    "class Square():\n",
    "    def __init__(self):\n",
    "        self.sides = 4\n",
    "\n",
    "my_shape = Square()\n",
    "print(my_shape.sides)"
   ]
  },
  {
   "cell_type": "markdown",
   "metadata": {},
   "source": [
    "First, we created a class named `Square` with an attribute `sides`. Outside the class definition, we created a new instance of `Square` named `my_shape` and accessed that attribute using `my_shape.sides`.\n",
    "\n",
    "Now, do it yourself. In the box below, create a variable `zebra`, which is an `Animal` with the name `\"Jeffrey\"`. Then, print out the `zebra`'s name using the `name` attribute."
   ]
  },
  {
   "cell_type": "code",
   "execution_count": null,
   "metadata": {
   },
   "outputs": [],
   "source": [
    "# Below, instantiate the variable zebra\n",
    "\n",
    "\n",
    "# Below, print out the zebra's name\n"
   ]
  },
  {
   "cell_type": "markdown",
   "metadata": {},
   "source": [
    "In the box below, we are going to add some more attributes to the `Animal` class. Redefine this class, and make sure the `__init__()` takes three arguments in addition to `self`: `name` (a string), `age` (an integer), and `is_hungry` (a boolean). Associate these arguments to the instance with the `self.attribute` notation. Then, outside your function, create three new animals:\n",
    "  * `zebra`, an `Animal` called `\"Jeffrey\"`, `2` years old, and hungry\n",
    "  * `giraffe`, an `Animal` called `\"Bruce\"`, `1` year old, not hungry\n",
    "  *  `panda`, an `Animal` called `\"Chad\"`, `7` years old, and hungry\n",
    "\n",
    "Execute the chunk of box below when completed."
   ]
  },
  {
   "cell_type": "code",
   "execution_count": null,
   "metadata": {
   },
   "outputs": [],
   "source": [
    "# Define your class on the lines below\n",
    "\n",
    "\n",
    "\n",
    "\n",
    "\n",
    "\n",
    "# Instantiate the three animals: zebra, giraffe, and panda\n",
    "\n",
    "\n",
    "\n",
    "\n",
    "\n",
    "# Do not alter the following lines\n",
    "print(zebra.name, zebra.age, zebra.is_hungry)\n",
    "print(giraffe.name, giraffe.age, giraffe.is_hungry)\n",
    "print(panda.name, panda.age, panda.is_hungry)"
   ]
  },
  {
   "cell_type": "markdown",
   "metadata": {},
   "source": [
    "### 7.2. More details on classes"
   ]
  },
  {
   "cell_type": "markdown",
   "metadata": {},
   "source": [
    "Another important aspect of *Python* classes is **scope**. The scope of a variable is the context in which it's visible to the program.\n",
    "\n",
    "It may be surprising that not all variables are accessible to all parts of a *Python* program at all times. When dealing with classes, you can have variables that are available everywhere (**global variables**), variables that are only available to members of a certain class (**class attributes**), and variables that are only available to particular instances of a class (**[instance] attributes**).\n",
    "\n",
    "The same goes for functions: some are available everywhere, some are only available to members of a certain class, and still others are only available to particular instance objects.\n",
    "\n",
    "For instance, below, each individual animal gets its own `name` and `age` (since they're all initialized individually, these are instance variables), but they all have access to the member variable `is_alive`, since they're all members of the `Animal` class. Execute the code to see how it works."
   ]
  },
  {
   "cell_type": "code",
   "execution_count": null,
   "metadata": {
   },
   "outputs": [],
   "source": [
    "class Animal():\n",
    "    is_alive = True\n",
    "    def __init__(self, name, age):\n",
    "        self.name = name\n",
    "        self.age = age\n",
    "\n",
    "zebra = Animal(\"Jeffrey\", 2)\n",
    "giraffe = Animal(\"Bruce\", 1)\n",
    "panda = Animal(\"Chad\", 7)\n",
    "\n",
    "print(zebra.name, zebra.age, zebra.is_alive)\n",
    "print(giraffe.name, giraffe.age, giraffe.is_alive)\n",
    "print(panda.name, panda.age, panda.is_alive)"
   ]
  },
  {
   "cell_type": "markdown",
   "metadata": {},
   "source": [
    "When a class has its own functions, those functions are called **methods**. You've already seen one such method: `__init__()`.\n",
    "\n",
    "In the box below, add a method `description` to your `Animal` class. Using two separate `print` statements, it should print out the `name` and `age` of the animal it's called on. Then, create an instance of `Animal`, `hippo` (with whatever name and age you like), and call its `description` method."
   ]
  },
  {
   "cell_type": "code",
   "execution_count": null,
   "metadata": {
   },
   "outputs": [],
   "source": [
    "class Animal():\n",
    "    is_alive = True\n",
    "    def __init__(self, name, age):\n",
    "        self.name = name\n",
    "        self.age = age\n",
    "    \n",
    "    # Add your method on the lines below\n",
    "\n",
    "\n",
    "\n",
    "\n",
    "# Instantiate hippo\n",
    "\n",
    "\n",
    "# Call the description method\n"
   ]
  },
  {
   "cell_type": "markdown",
   "metadata": {},
   "source": [
    "### 7.3. Inheritance"
   ]
  },
  {
   "cell_type": "markdown",
   "metadata": {},
   "source": [
    "**Inheritance** is a tricky concept, so let's go through it step by step.\n",
    "\n",
    "Inheritance is the process by which one class takes on the attributes and methods of another, and it's used to express an **is-a** relationship. For example, a Panda **is a** bear, so a Panda class could inherit from a Bear class. However, a Toyota is not a Tractor, so it shouldn't inherit from the Tractor class (even if they have a lot of attributes and methods in common). Instead, both Toyota and Tractor could ultimately inherit from the same Vehicle class.\n",
    "\n",
    "Check out the code in the editor below. We've defined a class, `Customer`, as well as a class `ReturningCustomer` that inherits from it. Note that we don't define the `display_cart` method in the body of `ReturningCustomer`, but it will still have access to that method via inheritance. Execute the chunk of code below to see for yourself."
   ]
  },
  {
   "cell_type": "code",
   "execution_count": null,
   "metadata": {
   },
   "outputs": [],
   "source": [
    "class Customer():\n",
    "    \"\"\"Produces objects that represent customers.\"\"\"\n",
    "    def __init__(self, customer_id):\n",
    "        self.customer_id = customer_id\n",
    "\n",
    "    def display_cart(self):\n",
    "        print(\"I'm a string that stands in for the contents of your shopping cart!\")\n",
    "\n",
    "class ReturningCustomer(Customer):\n",
    "    \"\"\"For customers of the repeat variety.\"\"\"\n",
    "    def display_order_history(self):\n",
    "        print(\"I'm a string that stands in for your order history!\")\n",
    "\n",
    "monty_python = ReturningCustomer(\"ID: 12345\")\n",
    "monty_python.display_cart()\n",
    "monty_python.display_order_history()"
   ]
  },
  {
   "cell_type": "markdown",
   "metadata": {},
   "source": [
    "As shown in the example above, to inherit from a **parent class**, it need to be provided in between parentheses in the definition of the **child class**. \n",
    "\n",
    "Try it yourself in the box below. We have already defined a class named `Shape`. Create your own class, `Triangle`, that inherits from it. Inside the `Triangle` class, writen an `__init__()` function that takes four arguments: `self`, `side1`, `side2`, and `side3`, and set the last three arguments as instance attributes. Then, execute the box."
   ]
  },
  {
   "cell_type": "code",
   "execution_count": null,
   "metadata": {
   },
   "outputs": [],
   "source": [
    "# Do not alter the class Shape\n",
    "class Shape():\n",
    "    \"\"\"Makes shapes\"\"\"\n",
    "    def __init__(self, number_of_sides):\n",
    "        self.number_of_sides = number_of_sides\n",
    "\n",
    "# Add your Triangle class below\n",
    "\n",
    "\n",
    "\n",
    "\n",
    "\n",
    "        \n",
    "# Do not alter the code below\n",
    "triangle = Triangle(3,4,5)\n",
    "print('The first side has length %.2f.' %triangle.side1)\n",
    "print('The second side has length %.2f.' %triangle.side2)\n",
    "print('The third side has length %.2f.' %triangle.side3)"
   ]
  },
  {
   "cell_type": "markdown",
   "metadata": {},
   "source": [
    "Sometimes you'll want one class that inherits from another to not only take on the methos and attributes of its parent, but to **override** one or more of them.\n",
    "\n",
    "Take a look at the example below. Rather than have a seperate `greet_underling` method for our CEO, we **override** (or recreate) the `greet` method on top of the base `Employee.greet` method. This way, we don't need to know what type of `Employee` we have before we greet another `Employee`."
   ]
  },
  {
   "cell_type": "code",
   "execution_count": null,
   "metadata": {
   },
   "outputs": [],
   "source": [
    "class Employee():\n",
    "    def __init__(self, name):\n",
    "        self.name = name\n",
    "    def greet(self, other):\n",
    "        print(\"Hello, %s\" % other.name)\n",
    "\n",
    "class CEO(Employee):\n",
    "    def greet(self, other):\n",
    "        print(\"Get back to work, %s!\" % other.name)\n",
    "\n",
    "ceo = CEO(\"Emily\")\n",
    "emp = Employee(\"Steve\")\n",
    "\n",
    "emp.greet(ceo)\n",
    "ceo.greet(emp)"
   ]
  },
  {
   "cell_type": "markdown",
   "metadata": {},
   "source": [
    "In the box below, create a new class, `PartTimeEmployee`, that inherits from `Employee`. Give your derived class a `calculate_wage` method that overrides `Employee`'s. It should take `self` and `hours` as arguments, and return the part-time employee's number of `hours` worked multiplied by 12.00. Because `PartTimeEmployee.calculate_wage` overrides `Employee.calculate_wage`, it still needs to set `self.hours = hours`. "
   ]
  },
  {
   "cell_type": "code",
   "execution_count": null,
   "metadata": {
   },
   "outputs": [],
   "source": [
    "# Do not change the Employee class\n",
    "class Employee():\n",
    "    \"\"\"Models real-life employees!\"\"\"\n",
    "    def __init__(self, employee_name):\n",
    "        self.employee_name = employee_name\n",
    "\n",
    "    def calculate_wage(self, hours):\n",
    "        self.hours = hours\n",
    "        return hours * 20.00\n",
    "\n",
    "# Add your code below\n",
    "\n",
    "\n",
    "\n",
    "\n",
    "\n",
    "# Do not alter the following lines\n",
    "paul = Employee(\"Paul\")\n",
    "art = PartTimeEmployee(\"Art\")\n",
    "\n",
    "print(\"%.2f\" %paul.calculate_wage(40))   # Should return 800.00\n",
    "print(\"%.2f\" %art.calculate_wage(40))    # Should return 480.00"
   ]
  },
  {
   "cell_type": "markdown",
   "metadata": {},
   "source": [
    "On the flip side, sometimes you'll be working with a **derived class** (or **child**, or **subclass**) and realize that you've overwritten a method or attribute defined in that class' **base class** (also called a **parent** or **superclass**) that you actually need. Have no fear! You can directly access the attributes or methods of a superclass with *Python*'s built-in `super` call.\n",
    "\n",
    "In the example below, we have added a method, `full_time_wage`, in the `PartTimeEmployee` class. This method simply calculates the wage, based on the `calculate_wage` method from the parent class. Execute the code to see how it works."
   ]
  },
  {
   "cell_type": "code",
   "execution_count": null,
   "metadata": {
   },
   "outputs": [],
   "source": [
    "class Employee():\n",
    "    \"\"\"Models real-life employees!\"\"\"\n",
    "    def __init__(self, employee_name):\n",
    "        self.employee_name = employee_name\n",
    "\n",
    "    def calculate_wage(self, hours):\n",
    "        self.hours = hours\n",
    "        return hours * 20.00\n",
    "\n",
    "# Add your code below!\n",
    "class PartTimeEmployee(Employee):\n",
    "    def calculate_wage(self, hours):\n",
    "        self.hours = hours\n",
    "        return hours * 12.00\n",
    "    \n",
    "    def full_time_wage(self, hours):\n",
    "        return super(PartTimeEmployee, self).calculate_wage(hours)\n",
    "        \n",
    "milton = PartTimeEmployee(\"Milton\")\n",
    "print(milton.full_time_wage(10))"
   ]
  },
  {
   "cell_type": "markdown",
   "metadata": {},
   "source": [
    "One useful class method to override is the built-in `__str__()` method. By providing a `return` value in this method, which needs to be a string, we can tell *Python* how to represent an object of our class (for instance, when using a `print` statement). Try it yourself with the instructions below."
   ]
  },
  {
   "cell_type": "markdown",
   "metadata": {},
   "source": [
    "1. Define a `Point3D` class.\n",
    "2. Inside the `Point3D` class, define an `__init__()` function that accepts `self`, `x`, `y`, and `z`, and assigns these numbers to the appropriate member variables.\n",
    "3. Define a `__str__()` method that returns `\"({}, {}, {})\".format(self.x, self.y, self.z)`. This tells *Python* to represent this object in the following format: `(x, y, z)`.\n",
    "4. Outside the class definition, create a variable named `my_point` containing a new instance of `Point3D` with `x= 1 `, `y = 2`, and `z = 3`.\n",
    "5. Finally, show `my_point` by calling the `print` method."
   ]
  },
  {
   "cell_type": "code",
   "execution_count": null,
   "metadata": {
   },
   "outputs": [],
   "source": [
    "# Define your Point3D class here\n",
    "\n",
    "\n",
    "\n",
    "\n",
    "\n",
    "\n",
    "\n",
    "\n",
    "# Create your variable my_point here, and print it afterwards\n",
    "\n"
   ]
  },
  {
   "cell_type": "markdown",
   "metadata": {},
   "source": [
    "Armed with this information, it is time to tackle some more elaborate problems!"
   ]
  },
  {
   "cell_type": "markdown",
   "metadata": {},
   "source": [
    "<br/>"
   ]
  },
  {
   "cell_type": "markdown",
   "metadata": {},
   "source": [
    "## Chapter 8: The Triangle challenge"
   ]
  },
  {
   "cell_type": "markdown",
   "metadata": {},
   "source": [
    "In this challenge, you will need to code, from scratch, a class `Triangle` and a subclass `Equilateral`, each with their own appropriate attributes.\n",
    "\n",
    "1. Create a class `Triangle`. Its `__init__()` method should take `self`, `angle1`, `angle2`, and `angle3` as arguments. Set these appropriately in the body of the method.\n",
    "2. Inside the `Triangle` class, create a variable named `number_of_sides` and set it equal to `3`.\n",
    "3. Create a method named `check_angles`. When called (without arguments), this method should return `True` if the sum of the angles of the given `Triangle` amounts to 180, and `False` otherwise.\n",
    "4. Create an `Equilateral` class that inherits from your `Triangle` class. Inside `Equilateral`, create a member variable named `angle` and set it equal to `60`. Create an `__init()__` function with only the parameter `self`, and set `self.angle1`, `self.angle2`, and `self.angle3` equal to `self.angle` (since an equilateral triangle's angles will always be 60°).\n",
    "5. Outside the class, create a variable named `my_triangle`, and set it equal to a new instance of your `Triangle` class. Pass it the angles `90`, `30`, and `60`. Print out `my_triangle.number_of_sides` and `my_triangle.check_angles()`.\n",
    "6. Create a second variable, named `my_equitriangle`, and set it equal to a new instance of your `Equilateral` class. Print out `my_equitriangle.number_of_sides` and `my_equitriangle.check_angles()`."
   ]
  },
  {
   "cell_type": "code",
   "execution_count": null,
   "metadata": {
   },
   "outputs": [],
   "source": [
    "\n",
    "\n",
    "\n",
    "\n",
    "\n",
    "\n",
    "\n",
    "\n",
    "\n",
    "\n",
    "\n",
    "\n",
    "\n",
    "\n",
    "\n",
    "\n",
    "\n",
    "\n",
    "\n",
    "\n",
    "\n",
    "\n",
    "\n",
    "\n"
   ]
  },
  {
   "cell_type": "markdown",
   "metadata": {},
   "source": [
    "<br/>"
   ]
  },
  {
   "cell_type": "markdown",
   "metadata": {},
   "source": [
    "## Chapter 9: Create your own Car challenge"
   ]
  },
  {
   "cell_type": "markdown",
   "metadata": {},
   "source": [
    "Here, we will construct a class to store information about `Cars`, and build the child class `ElectricCar`.\n",
    "\n",
    "1. Define a new class named `Car`. Inside your `Car` class, define a new member named `condition` and give it as initial value the string `\"new\"`.\n",
    "2. Define the `__init__()` method of the `Car` class so that it can accept the car's `model` (a string), `color` (a string), and `mpg` (a float representing the car's consumption (in miles per gallon)), and couple this attributes to the instance.\n",
    "3. Inside the `Car` class, add two other methods:\n",
    "    * `display_car()`, referencing the car's member variables to return the string `\"This is a [color] [model] with [mpg] MPG.\"`.\n",
    "    * `drive_car()`, setting `self.condition` to the string `\"used\"`\n",
    "4. Create a class `ElectricCar` that inherits from `Car`. Give your new class an `__init__()` method that includes a `battery_type` member variable (a string) in addition to the `model`, `color`, and `mpg`.\n",
    "5. Since our `ElectricCar` is a more specialized type of `Car`, we can give the `ElectricCar` its own `drive_car()` method that has a different functionality than the original `Car` class's. Inside `ElectricCar`, add a new method, `drive_car()`, that changes the car's condition to the string `\"like new\"`.\n",
    "6. Now that you have everything in place, let's create cars! First, create an instance of `Car` named `my_car`, providing the following inputs at initialization:\n",
    "  * `model = \"DeLorean\"`\n",
    "  * `color = \"silver\"`\n",
    "  * `mpg = 88`\n",
    "  \n",
    "7. Call `my_car.display_car()` to print out the car's specifications. Print the `condition` of the car. Then, drive your car by calling the `drive_car()` method, and print the `condition` of your car again to see how its value has changed.\n",
    "8. Create an electric car named `my_new_car` with a `\"molten_salt\"` `battery_type`. Supply values of your choice for the other three inputs, and print out the car's specifications. Then, print the `condition` of `my_new_car` twice: once before and once after it has been driven."
   ]
  },
  {
   "cell_type": "code",
   "execution_count": null,
   "metadata": {
   },
   "outputs": [],
   "source": [
    "\n",
    "\n",
    "\n",
    "\n",
    "\n",
    "\n",
    "\n",
    "\n",
    "\n",
    "\n",
    "\n",
    "\n",
    "\n",
    "\n",
    "\n",
    "\n",
    "\n",
    "\n",
    "\n",
    "\n",
    "\n",
    "\n",
    "\n",
    "\n",
    "\n",
    "\n",
    "\n",
    "\n",
    "\n",
    "\n",
    "\n",
    "\n",
    "\n"
   ]
  },
  {
   "cell_type": "markdown",
   "metadata": {},
   "source": [
    "Congratulations, you finished the second notebook!"
   ]
  }
 ],
 "metadata": {
  "kernelspec": {
   "display_name": "Python 3",
   "language": "python",
   "name": "python3"
  },
  "language_info": {
   "codemirror_mode": {
    "name": "ipython",
    "version": 2
   },
   "file_extension": ".py",
   "mimetype": "text/x-python",
   "name": "python",
   "nbconvert_exporter": "python",
   "pygments_lexer": "ipython2",
   "version": "2.7.13"
  }
 },
 "nbformat": 4,
 "nbformat_minor": 2
}
