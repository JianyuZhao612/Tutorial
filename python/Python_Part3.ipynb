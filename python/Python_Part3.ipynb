{
 "cells": [
  {
   "cell_type": "markdown",
   "metadata": {},
   "source": [
    "# Learning the ropes of *Python*"
   ]
  },
  {
   "cell_type": "markdown",
   "metadata": {},
   "source": [
    "Welcome in this four-part notebook which aims to prepare you to use *Python* during your master dissertation. As these notebooks start from scratch, some of these topics may seem too simple. Of course, feel free to skip those topics that are too easy, and concentrate on the harder ones (or the challenges at the end of each notebook).\n",
    "\n",
    "The *Python* notebooks are divided in four parts:\n",
    "1. The Basics: Syntax, Strings, and Conditionals\n",
    "2. Functions and Classes\n",
    "3. Lists, Loops, Dictionaries, and File I/O\n",
    "4. NumPy and Matplotlib\n",
    "\n",
    "In every notebook, we have not only provided an introduction to each subject, but also some small tests and larger challenges for you to tackle. This is the ideal way to verify whether you completely understand the topics at hand. \n",
    "\n",
    "Note that we cannot be exhaustive. However, these notebooks aim to get you started with *Python* with minimum effort. Further details can be found on the [*Python* homepage](http://docs.python.org/3/). Special thanks goes out to [Codecademy](http://www.codecademy.com), the online platform that was used as the basis of many of the examples given below."
   ]
  },
  {
   "cell_type": "markdown",
   "metadata": {},
   "source": [
    "# Part 3: Lists, Loops, Dictionaries, and Text I/O"
   ]
  },
  {
   "cell_type": "markdown",
   "metadata": {},
   "source": [
    "*Lists are how I parse and manage the world.*<br/>\n",
    "<div style=\"text-align: right\"> -- Adam Savage, *Mythbusters* presenter </div>"
   ]
  },
  {
   "cell_type": "markdown",
   "metadata": {},
   "source": [
    "## Chapter 10: Lists"
   ]
  },
  {
   "cell_type": "markdown",
   "metadata": {},
   "source": [
    "**Lists** are a **datatype** you can use to store a collection of different pieces of information as a sequence under a single variable name. Datatypes you've already learned about include strings, numbers, and booleans."
   ]
  },
  {
   "cell_type": "markdown",
   "metadata": {},
   "source": [
    "### 10.1. Initializing and indexing lists"
   ]
  },
  {
   "cell_type": "markdown",
   "metadata": {},
   "source": [
    "You can assign items to a list with an expression of the form\n",
    "\n",
    "`list_name = [item_1, item_2]`\n",
    "\n",
    "with the items in between brackets. A list can also be empty:\n",
    "\n",
    "`empty_list = []`\n",
    "\n",
    "Lists are very similar to strings, but there are a few key differences."
   ]
  },
  {
   "cell_type": "markdown",
   "metadata": {},
   "source": [
    "You can access an individual item on the list by its **index**. An index is like an address that identifies the item's place in the list. The index appears directly after the list name, in between brackets, like this: `list_name[index]`.\n",
    "\n",
    "**List indices begin with 0, not 1!** You access the first item in a list like this: `list_name[0]`. The second item in a list is at index 1: `list_name[1]`."
   ]
  },
  {
   "cell_type": "markdown",
   "metadata": {},
   "source": [
    "The code below initializes a list of four numbers and prints the result of adding the numbers at indices 0 and 2. On the last line, add a line of code to print the numbers at indices 1 and 3."
   ]
  },
  {
   "cell_type": "code",
   "execution_count": null,
   "metadata": {
   },
   "outputs": [],
   "source": [
    "numbers = [5, 6, 7, 8]\n",
    "\n",
    "print(\"Adding the numbers at indices 0 and 2...\")\n",
    "print(numbers[0] + numbers[2])\n",
    "print(\"Adding the numbers at indices 1 and 3...\")\n",
    "\n",
    "# Add your code here\n"
   ]
  },
  {
   "cell_type": "markdown",
   "metadata": {},
   "source": [
    "A list index behaves like any other variable name! It can be used to access as well as assign values. For instance, to change the second number in the list `numbers` to `16` instead of `6`, we can use:"
   ]
  },
  {
   "cell_type": "code",
   "execution_count": null,
   "metadata": {
   },
   "outputs": [],
   "source": [
    "numbers[1] = 16\n",
    "print(numbers)"
   ]
  },
  {
   "cell_type": "markdown",
   "metadata": {},
   "source": [
    "Items in a list can be of any type. Even better: this type does not have to be the same for all elements! For example, the following list is allowed in *Python*:"
   ]
  },
  {
   "cell_type": "code",
   "execution_count": null,
   "metadata": {
   },
   "outputs": [],
   "source": [
    "l = ['a', 123, [3, 'dd', 'foo', 123.3], ['a', []]]"
   ]
  },
  {
   "cell_type": "markdown",
   "metadata": {},
   "source": [
    "When a list consists of integer, the *Python* `range()` function can be very useful as a shortcut for generating lists. The `range` function comes in three flavors, depending on the number of arguments provided when called:\n",
    "1. `range(stop)`\n",
    "2. `range(start, stop)`\n",
    "3. `range(start, stop, step)`\n",
    "\n",
    "In all cases, the `range` function returns a list of numbers from *start* up to (but not including) *stop*. Each item increases by *step* . If omitted, *start* defaults to zero and *step* defaults to one. Since *Python 3.0* onwards, if explicitly assigned to a variable, the output of `range` needs to be recasted as a `list`.\n",
    "\n",
    "Use this to generate a list, `numbers_2`, which has the same content as the original `numbers` list (`[5,6,7,8]`), but using the `range` function instead."
   ]
  },
  {
   "cell_type": "code",
   "execution_count": null,
   "metadata": {
   },
   "outputs": [],
   "source": [
    "# Create a list numbers_2 containing [5,6,7,8]\n",
    "\n",
    "\n",
    "# Do not alter the following line\n",
    "print(numbers_2)"
   ]
  },
  {
   "cell_type": "markdown",
   "metadata": {},
   "source": [
    "Another useful way to generate lists, **list comprehension**, is postponed to section 11.3, as it requires the introduction of loops."
   ]
  },
  {
   "cell_type": "markdown",
   "metadata": {},
   "source": [
    "### 10.2. Basic functionalities"
   ]
  },
  {
   "cell_type": "markdown",
   "metadata": {},
   "source": [
    "A list doesn't have to have a fixed length. You can add items to the end of a list any time you like by using the `append` function: `list.append(new_element)`.\n",
    "\n",
    "If, instead, you want to insert a new element at a specified index in the list (and move all original elements starting at that index one index further), the `insert` command can be used: `list.insert(index, new_element)`.\n",
    "\n",
    "Finally, to search for a specific element in a list, you can use the `index` function, which returns the *first* index where the query is found: `list.index(query)`.\n",
    "\n",
    "Try these functionalities out yourself:\n",
    "1. First, add a `\"fennec\"` and a `\"fox\"` to the end of the list `animals`.\n",
    "2. Then, use the `index` function to find the index of `\"duck\"`, and assign the result to the variable `duck_index`.\n",
    "3. Use the `insert` function to insert a `\"cobra\"` at the index where the `\"duck\"` was found.\n",
    "4. Finally, print the resulting list."
   ]
  },
  {
   "cell_type": "code",
   "execution_count": null,
   "metadata": {
   },
   "outputs": [],
   "source": [
    "# Do not alter the following line\n",
    "animals = [\"badger\", \"aardvark\", \"duck\", \"emu\"]\n",
    "\n",
    "# Add a fennec and a fox to the end of the list\n",
    "\n",
    "\n",
    "\n",
    "# Retrieve the index of the duck\n",
    "\n",
    "\n",
    "# Insert a cobra at this index\n",
    "\n",
    "\n",
    "# Print the resulting list\n"
   ]
  },
  {
   "cell_type": "markdown",
   "metadata": {},
   "source": [
    "We've seen before that two strings can be concatenated using the `+` operator. The same is true for lists, as seen below:"
   ]
  },
  {
   "cell_type": "code",
   "execution_count": null,
   "metadata": {
   },
   "outputs": [],
   "source": [
    "animals_part1 = ['badger', 'aardvark', 'cobra', 'duck']\n",
    "animals_part2 = ['emu','fennec','fox']\n",
    "\n",
    "animals = animals_part1 + animals_part2\n",
    "print(animals)"
   ]
  },
  {
   "cell_type": "markdown",
   "metadata": {},
   "source": [
    "The list above is not sorted in alphabetical order. To so so, the `.sort()` function can be used:"
   ]
  },
  {
   "cell_type": "code",
   "execution_count": null,
   "metadata": {
   },
   "outputs": [],
   "source": [
    "print(animals)\n",
    "animals.sort()\n",
    "print(animals)"
   ]
  },
  {
   "cell_type": "markdown",
   "metadata": {},
   "source": [
    "Note that `.sort()` modifies the list itself rather than returning a new list.\n",
    "\n",
    "Besides adding elements to a list, we can also remove elements. A few possibilities exist:\n",
    "  * `list.remove(item)` removes the first instance of the `list` that coincides with `item`\n",
    "  * `list.pop(index)` removes and returns the item at the specified `index`\n",
    "  * `del(list[index])` removes the item at the specified `index`.\n",
    "  \n",
    "In the `beatles` list below, the four famous singers have company of three other gentlemen. Remove these other gentlemen as follows:\n",
    "1. Remove `\"stuart\"` using the `remove` function\n",
    "2. Remove `\"billy\"` using the `pop` function\n",
    "3. Remove `\"freddy\"` using the `del` function"
   ]
  },
  {
   "cell_type": "code",
   "execution_count": null,
   "metadata": {
   },
   "outputs": [],
   "source": [
    "# Do not change the following line\n",
    "beatles = [\"john\", \"freddy\", \"paul\", \"billy\", \"george\", \"stuart\", \"ringo\"]\n",
    "\n",
    "# First, remove stuart using remove\n",
    "\n",
    "\n",
    "# Second, remove billy using pop\n",
    "\n",
    "\n",
    "# Third, remove freddy using del\n",
    "\n",
    "\n",
    "# Do not change the following print statement\n",
    "print(beatles)"
   ]
  },
  {
   "cell_type": "markdown",
   "metadata": {},
   "source": [
    "### 10.3. Slicing revisited"
   ]
  },
  {
   "cell_type": "markdown",
   "metadata": {},
   "source": [
    "In section 2.2, we saw that it was possible to slice a string using the syntax `[start:end:stride]`. The same is true for lists, with exactly the same syntax. Recall that the sliced list includes the element at index `start`, but not the element at index `end`. Moreover, default values exist for all these options (`start=0`, `end=-1`, `stride=1`). A negative stride progresses through the list from right to left, in reverse order."
   ]
  },
  {
   "cell_type": "markdown",
   "metadata": {},
   "source": [
    "Note that lists can also be inputted as parameters to a function. Inside the function, the elements of the list can be accessed in exactly the same way as we learned before. More specifically, you can access, alter, remove, or append elements in or to a list in a function as if your were manipulating the list outside a function. Let's try this out below."
   ]
  },
  {
   "cell_type": "markdown",
   "metadata": {},
   "source": [
    "In the box below, write a function `median` that takes a `list` as input and returns the median value of that list. If the `list` contains an even number of elements, your function should return the average of the middle two elements. The input list is not necessarily sorted. Note that, to access a list, the `index` should be an integer (if your code doesn't work, check that this is indeed the case)."
   ]
  },
  {
   "cell_type": "code",
   "execution_count": null,
   "metadata": {
   },
   "outputs": [],
   "source": [
    "# Write your function median below\n",
    "\n",
    "\n",
    "\n",
    "\n",
    "\n",
    "\n",
    "\n",
    "\n",
    "# Do not alter the lines below\n",
    "print(median([18, 1, 4]))      # Should print 4\n",
    "print(median([22, 85, 35, 14])) # Should print 28.5"
   ]
  },
  {
   "cell_type": "markdown",
   "metadata": {},
   "source": [
    "As a last small exercise on list slicing, create a list `to_21`, containing the numbers from 1 to 21, inclusive, in the box below using the `range` function. Using list slicing, create a second list, `odds`, that contains only the odd numbers in the `to_21` list. Finally, create a third list, `middle_third_inverse`, that equals the middle third of the `to_21` list, but reversed: from 14 to 8, inclusive."
   ]
  },
  {
   "cell_type": "code",
   "execution_count": null,
   "metadata": {
   },
   "outputs": [],
   "source": [
    "# Define the list to_21 with range\n",
    "\n",
    "\n",
    "# Define the list odds using list slicing\n",
    "\n",
    "\n",
    "# Define the list middle_third_inverse using list slicing\n",
    "\n",
    "\n",
    "# Do not alter the following lines\n",
    "print(to_21)\n",
    "print(odds)\n",
    "print(middle_third_inverse)"
   ]
  },
  {
   "cell_type": "markdown",
   "metadata": {},
   "source": [
    "### 10.4. Sets"
   ]
  },
  {
   "cell_type": "markdown",
   "metadata": {},
   "source": [
    "As you've seen before, lists can contain duplicates:"
   ]
  },
  {
   "cell_type": "code",
   "execution_count": null,
   "metadata": {},
   "outputs": [],
   "source": [
    "print([1, 2, 2, 3])"
   ]
  },
  {
   "cell_type": "markdown",
   "metadata": {},
   "source": [
    "However, for some applications, we might need an object that can store a list of objects, but removing duplicate entries. Here, a **set** comes in handy. Sets are defined using curly brackets:"
   ]
  },
  {
   "cell_type": "code",
   "execution_count": null,
   "metadata": {},
   "outputs": [],
   "source": [
    "set_1 = {1, 2, 3}\n",
    "print(set_1)"
   ]
  },
  {
   "cell_type": "markdown",
   "metadata": {},
   "source": [
    "Now, let's create a set containing duplicate elements, and try to print it:"
   ]
  },
  {
   "cell_type": "code",
   "execution_count": null,
   "metadata": {},
   "outputs": [],
   "source": [
    "set_2 = {1, 2, 2, 3}\n",
    "print(set_2)"
   ]
  },
  {
   "cell_type": "markdown",
   "metadata": {},
   "source": [
    "As you can see, *Python* automatically detected the presence of duplicates, and removed them from the set."
   ]
  },
  {
   "cell_type": "markdown",
   "metadata": {},
   "source": [
    "<br/>"
   ]
  },
  {
   "cell_type": "markdown",
   "metadata": {},
   "source": [
    "## Chapter 11: Loops"
   ]
  },
  {
   "cell_type": "markdown",
   "metadata": {},
   "source": [
    "**Loops** are a useful way to repeat a certain action. In *Python*, two major loop flavors exist: **for loops** and **while loops**. The first one is closely connected to lists, while the second one is based on the conditional statements we discussed in Chapter 3."
   ]
  },
  {
   "cell_type": "markdown",
   "metadata": {},
   "source": [
    "### 11.1. For loops"
   ]
  },
  {
   "cell_type": "markdown",
   "metadata": {},
   "source": [
    "If you want to perform a given action with every item in a list, a `for` loop can be used. They have the following syntax: \n",
    "\n",
    "    for item in list:\n",
    "        # Body of the for loop.\n",
    "        # Code to be repeated, each time with a new item from the list.\n",
    "        ...\n",
    "    \n",
    "The variable name that follows the `for` keyword is used as **loop variable** in the indented block; it will be assigned the value of each list item in turn. The `for` loop ends once the loop variable has progressed through the complete list. Do not forget the colon at the end of the line.\n",
    "\n",
    "As an example, the code below runs through the given list and, in turn, doubles the given element and prints out the result."
   ]
  },
  {
   "cell_type": "code",
   "execution_count": null,
   "metadata": {
   },
   "outputs": [],
   "source": [
    "my_list = [1, 9, 3, 8, 5, 7]\n",
    "for number in my_list:\n",
    "    print(2*number)"
   ]
  },
  {
   "cell_type": "markdown",
   "metadata": {},
   "source": [
    "As a small aside, the `in` keyword can not only be used to iterate over lists, tuples, strings, and dictionaries (see later), but can also be used to verify whether a given element is contained within the list, returning `True` or `False`:"
   ]
  },
  {
   "cell_type": "code",
   "execution_count": null,
   "metadata": {
   },
   "outputs": [],
   "source": [
    "print(2 in my_list)\n",
    "print(9 in my_list)"
   ]
  },
  {
   "cell_type": "markdown",
   "metadata": {},
   "source": [
    "Since a string is closely related to a list, a `for` loop can also be used to loop over the characters in a string:"
   ]
  },
  {
   "cell_type": "code",
   "execution_count": null,
   "metadata": {
   },
   "outputs": [],
   "source": [
    "word = 'Hello'\n",
    "for w in word:\n",
    "    print(w)"
   ]
  },
  {
   "cell_type": "markdown",
   "metadata": {},
   "source": [
    "Sometimes, we want to verify whether what we're doing is sensible, and whether the loop variable takes on values that we expect. As we've covered before, this can be done with an `if` statement, but what can we do if we encounter a problem? Either we can thrown an **Exception** (which we will not cover here), or we can `break` the loop. The `break` is a one-line statement that means \"exit the current (innermost) loop\".\n",
    "\n",
    "For instance, the function below expects a list of positive numbers, and prints out the square root. To make sure the function works as it should, an `if` statement is added to stop the loop when a negative number is provided. If not present, an error message is printed and the loop is interrupted."
   ]
  },
  {
   "cell_type": "code",
   "execution_count": null,
   "metadata": {
   },
   "outputs": [],
   "source": [
    "from math import sqrt\n",
    "\n",
    "new_list = [4, 25, -3, 85, 66]\n",
    "\n",
    "for number in new_list:\n",
    "    if number < 0:\n",
    "        print(\"Negative number encountered: {:.2f}. Stopping the iteration.\".format(number))\n",
    "        break\n",
    "    print(sqrt(number))"
   ]
  },
  {
   "cell_type": "markdown",
   "metadata": {},
   "source": [
    "A weakness of using this for-each style of iteration is that you don't know the index of the thing you're looking at. Generally this isn't an issue, but at times it is useful to know how far into the list you are. Thankfully the built-in `enumerate` function helps with this.\n",
    "\n",
    "`enumerate` works by supplying a corresponding index to each element in the list that you pass it. Each time you go through the loop, `index` will be one greater, and `item` will be the next item in the sequence. It's very similar to using a normal `for` loop with a list, except this gives us an easy way to count how many items we've seen so far:"
   ]
  },
  {
   "cell_type": "code",
   "execution_count": null,
   "metadata": {
   },
   "outputs": [],
   "source": [
    "choices = [\"pizza\", \"pasta\", \"salad\", \"nachos\"]\n",
    "\n",
    "print(\"Your choices are:\")\n",
    "for index, item in enumerate(choices):\n",
    "    print(index + 1, item)"
   ]
  },
  {
   "cell_type": "markdown",
   "metadata": {},
   "source": [
    "It's also common to iterate over two lists at once. This is where the built-in `zip` function comes in handy. `zip` will create pairs of elements when passed two lists, and will stop at the end of the shorter list. `zip` can handle three or more lists as well.\n",
    "\n",
    "Try it out yourself. Complete the loop below so that it compares each pair of elements and prints out the larger of the two."
   ]
  },
  {
   "cell_type": "code",
   "execution_count": null,
   "metadata": {
   },
   "outputs": [],
   "source": [
    "# Do no alter the following lines\n",
    "list_a = [3, 9, 17, 15, 19]\n",
    "list_b = [2, 4, 8, 10, 30, 40, 50, 60, 70, 80, 90]\n",
    "\n",
    "for a, b in zip(list_a, list_b):\n",
    "    # Start completing the loop here\n",
    "\n",
    "\n",
    "\n"
   ]
  },
  {
   "cell_type": "markdown",
   "metadata": {},
   "source": [
    "While not very common, `for` loops may have an `else` statement associated with them. In that case, the `else` statement is executed after the `for`, but only if the loop ends normally, *i.e.* without throwing an error or a premature `break`. An example is given below:"
   ]
  },
  {
   "cell_type": "code",
   "execution_count": null,
   "metadata": {
   },
   "outputs": [],
   "source": [
    "for n in range(2, 10):\n",
    "    # Test if n is prime\n",
    "    for x in range(2, n):\n",
    "        if n % x == 0:\n",
    "            print(n, 'equals', x, '*', n/x)\n",
    "            break\n",
    "    else:\n",
    "        # loop fell through without finding a factor\n",
    "        print(n, 'is a prime number')"
   ]
  },
  {
   "cell_type": "markdown",
   "metadata": {},
   "source": [
    "### 11.2. While we're talking about loops"
   ]
  },
  {
   "cell_type": "markdown",
   "metadata": {},
   "source": [
    "The second type of loops are the so-called **while** loops. In some sense, the `while` loop is similar to an `if` statement: it executes the code inside of it if some **condition** is true. The difference is that the `while` loop will continue to execute *as long as* the condition is true. In other words, instead of executing *if* something is true, it executes *while* that thing is true.\n",
    "\n",
    "A `while` loop has the following syntax:\n",
    "\n",
    "    while condition:\n",
    "        # Body of the while loop. \n",
    "        # Some code to be repeated, as long as condition evaluates to True.\n",
    "\n",
    "The `condition` is the expression that decides whether the loop body is going to be executed or not. A common (but capital) error are **infinite loops**. An infinite loop is a loop that never ends, either because the loop condition cannot be false (*e.g.*, `while True:`), or because the logic of the loop prevents the loop condition from becoming false. Pay attention to these erorrs, as they will easily crash your computer.\n",
    "\n",
    "Try out `while` loops yourself (for your computer's health, preferentially with a finite number of iterations): declare the variable `num` in the box below, and assign the value `1` to it. Create a `while` loop that prints out all the numbers from 1 to 10 squared, each on their own line."
   ]
  },
  {
   "cell_type": "code",
   "execution_count": null,
   "metadata": {
   },
   "outputs": [],
   "source": [
    "# Create the variable num\n",
    "\n",
    "\n",
    "# Create the while loop\n",
    "\n",
    "    # Create the print statement\n",
    "\n",
    "    # Don't forget to increment num\n"
   ]
  },
  {
   "cell_type": "markdown",
   "metadata": {},
   "source": [
    "A common application of a `while` loop is to check user input to see if it is valid. For example, if you ask the user to enter either `y` or `n `, and they instead enter `7`, then you should re-prompt them for input (and hurt yourself in confusion):"
   ]
  },
  {
   "cell_type": "code",
   "execution_count": null,
   "metadata": {
   },
   "outputs": [],
   "source": [
    "choice = input(\"Enjoying the notebook? (y/n) \")\n",
    "\n",
    "while choice not in ['n','y']:\n",
    "    choice = input(\"Sorry, I didn't catch that. Enter again (y/n): \")"
   ]
  },
  {
   "cell_type": "markdown",
   "metadata": {},
   "source": [
    "Something completely different about *Python* is the `while`/`else` construction. `while`/`else` is similar to `if`/`else`, but there *is* a difference: the `else` block will execute *anytime* the loop condition is evaluated to `False`. This means that it will execute if the loop is never entered in the first place, or if the loop exits normally after some iterations. If the loop exits as the result of a `break`, the `else` will not be executed, just as for the `for` loop.\n",
    "\n",
    "In the example below, the loop will `break` if a `5` is randomly generated, and the `else` will not execute. Otherwise, after three numbers are generated, the loop condition will become `False` and the `else` will execute. Try it out yourself by executing the code a few times."
   ]
  },
  {
   "cell_type": "code",
   "execution_count": null,
   "metadata": {
   },
   "outputs": [],
   "source": [
    "import random\n",
    "\n",
    "print(\"Lucky Numbers! 3 numbers will be generated.\")\n",
    "print(\"If one of them is a '5', you lose!\")\n",
    "\n",
    "count = 0\n",
    "while count < 3:\n",
    "    num = random.randint(1, 6)\n",
    "    print(num)\n",
    "    if num == 5:\n",
    "        print(\"Sorry, you lose!\")\n",
    "        break\n",
    "    count += 1\n",
    "else:\n",
    "    print(\"You win!\")"
   ]
  },
  {
   "cell_type": "markdown",
   "metadata": {},
   "source": [
    "### 11.3. List comprehensions"
   ]
  },
  {
   "cell_type": "markdown",
   "metadata": {},
   "source": [
    "Now that we have seen `for` loops, we can finally discuss **list comprehensions** as an alternative to building lists.\n",
    "\n",
    "Let's say you wanted to build a list of the numbers from 0 to 50 (inclusive). As seen in section 10.1, this can easily be done using the `range` function:"
   ]
  },
  {
   "cell_type": "code",
   "execution_count": null,
   "metadata": {
   },
   "outputs": [],
   "source": [
    "my_list = range(51)"
   ]
  },
  {
   "cell_type": "markdown",
   "metadata": {},
   "source": [
    "But what if we wanted to generate a list according to some logic—for example, a list of all the even numbers from 0 to 50?\n",
    "\n",
    "*Python*'s answer to this is the **list comprehension**. List comprehensions are a powerful way to generate lists using the `for`/`in` and `if` keywords.\n",
    "\n",
    "Check out the comprehension example below, creating the list of all the even numbers from 0 to 50 (inclusive)."
   ]
  },
  {
   "cell_type": "code",
   "execution_count": null,
   "metadata": {
   },
   "outputs": [],
   "source": [
    "evens_to_50 = [i for i in range(51) if i % 2 == 0]\n",
    "print(evens_to_50)"
   ]
  },
  {
   "cell_type": "markdown",
   "metadata": {},
   "source": [
    "Time to get practical! In the box below, use a list comprehension to create a list, `cubes_by_four`, which consists of the cubes of the numbers 1 through 10, but only if the cube is evenly divisible by four. (Note that the *cubed* numbers should be evenly divisible by 4, not the original number!) The resulting list should contain five elements."
   ]
  },
  {
   "cell_type": "code",
   "execution_count": null,
   "metadata": {
   },
   "outputs": [],
   "source": [
    "# Define your list comprehension hereunder\n",
    "\n",
    "\n",
    "# Do not alter the following line\n",
    "print(cubes_by_four)"
   ]
  },
  {
   "cell_type": "markdown",
   "metadata": {},
   "source": [
    "A second one, to fully comprehend these comprehensions. Use a list comprehension to create a list, `threes_and_fives`, that consists only of the numbers between 1 and 15 (inclusive) that are evenly divisible by 3 or 5 (or both). You should obtain a list with seven elements."
   ]
  },
  {
   "cell_type": "code",
   "execution_count": null,
   "metadata": {
   },
   "outputs": [],
   "source": [
    "# Define your list comprehension hereunder\n",
    "\n",
    "\n",
    "# Do not alter the following line\n",
    "print(threes_and_fives)"
   ]
  },
  {
   "cell_type": "markdown",
   "metadata": {},
   "source": [
    "### 11.4. Time for some loop exercise"
   ]
  },
  {
   "cell_type": "markdown",
   "metadata": {},
   "source": [
    "The best way to get good at anything is a lot of practice. This lesson is full of practice problems for you to work on. This section will contain minimal instructions to help you solve these problems; instead, this section will help you work on taking your programming skills and applying them to real life problems. Each problem takes about five to ten lines of code, focussing on what we've learned in this chapter."
   ]
  },
  {
   "cell_type": "markdown",
   "metadata": {},
   "source": [
    "In the box below, define a function `digit_sum` that takes a positive integer `n` as input and returns the sum of all that number's digit. For example, `digit_sum(1234)` should return `10`, as `10=1+2+3+4`. You may assume that the number you're given is always positive."
   ]
  },
  {
   "cell_type": "code",
   "execution_count": null,
   "metadata": {
   },
   "outputs": [],
   "source": [
    "# Write your digit_sum function here\n",
    "\n",
    "\n",
    "\n",
    "\n",
    "\n",
    "\n",
    "\n",
    "# Do not alter the following lines\n",
    "print(digit_sum(1234))    # Should return 10\n",
    "print(digit_sum(98467))   # Should return 34"
   ]
  },
  {
   "cell_type": "markdown",
   "metadata": {},
   "source": [
    "In the box below, define a function called `reverse` that takes a string and returns that string in reverse, without using `reversed` or `[::-1]`. For example, `reverse(\"abcd\")` should return `\"dcba\"`."
   ]
  },
  {
   "cell_type": "code",
   "execution_count": null,
   "metadata": {
   },
   "outputs": [],
   "source": [
    "# Write your reverse function here\n",
    "\n",
    "\n",
    "\n",
    "\n",
    "\n",
    "\n",
    "# Do not alter the following lines\n",
    "print(reverse(\"abcd\"))    # Should return dcba\n",
    "print(reverse(\"llew\"))    # Should return well\n",
    "print(reverse(\"!enod\"))   # Should return done!"
   ]
  },
  {
   "cell_type": "markdown",
   "metadata": {},
   "source": [
    "In the box below, define a function called `anti_vowel` that takes one string as input and returns the string with all of the vowels removed. For example: `anti_vowel(\"Hey You!\")` should return `\"Hy Y!\"`. Don't count `Y` as a vowel, and make sure to remove both lowercase and uppercase vowels."
   ]
  },
  {
   "cell_type": "code",
   "execution_count": null,
   "metadata": {
   },
   "outputs": [],
   "source": [
    "# Write your anti_vowel function here\n",
    "\n",
    "\n",
    "\n",
    "\n",
    "\n",
    "\n",
    "\n",
    "# Do not alter the following lines\n",
    "print(anti_vowel(\"Hey You!\"))           # Should return \"Hy Y!\"\n",
    "print(anti_vowel(\"An INSPIRING word\"))  # Should return \"n NSPRNG wrd\""
   ]
  },
  {
   "cell_type": "markdown",
   "metadata": {},
   "source": [
    "Going strong! In the box below, write a function called `censor` that takes two strings, `text` and `word`, as input. It should return the `text` with the `word` you chose replaced by asterisks. The number of asterisks you put should correspond to the number of letters in the censored word (note: `'A'*5` creates the string `'AAAAA'`). You may assume your input string doesn't contain any punctuation or uppercase letters."
   ]
  },
  {
   "cell_type": "code",
   "execution_count": null,
   "metadata": {
   },
   "outputs": [],
   "source": [
    "# Write your censor function here\n",
    "\n",
    "\n",
    "\n",
    "\n",
    "\n",
    "\n",
    "\n",
    "\n",
    "\n",
    "\n",
    "\n",
    "\n",
    "# Do not alter the following lines\n",
    "print(censor(\"this hack is wack hack\", \"hack\"))\n",
    "# Should return \"this **** is wack ****\"\n",
    "print(censor(\"one times one makes one\", \"one\"))\n",
    "# Should return \"*** times *** makes ***\""
   ]
  },
  {
   "cell_type": "markdown",
   "metadata": {},
   "source": [
    "Up for some lists as arguments for functions? Hope you are! Define a function called `count` in the box below that takes two arguments, called `sequence` (a list) and `item`, and returns the number of times the `item` (which can be an integer, string, float, or even another list) appears in `sequence`. Do not use any pre-defined *Python* methods. And remember: `list` is a preserved word in *Python*, you cannot use it as an argument in a function."
   ]
  },
  {
   "cell_type": "code",
   "execution_count": null,
   "metadata": {
   },
   "outputs": [],
   "source": [
    "# Write your count function here\n",
    "\n",
    "\n",
    "\n",
    "\n",
    "\n",
    "\n",
    "\n",
    "# Do not alter the following lines\n",
    "print(count([1,2,1,1], 1))                 # Should return 3\n",
    "print(count(\"indivisibility\", \"i\"))        # Should return 6\n",
    "print(count([[2,1],[1,2],[1,2]], [1,2]))   # Should return 2"
   ]
  },
  {
   "cell_type": "markdown",
   "metadata": {},
   "source": [
    "Let's practice filtering a list. In the box below, define a function called `purify` that takes in a list of numbers, removes all odd numbers in the list, and returns the result in a list. Do not directly modify the list you are given as input; instead, return a new list with only the even numbers."
   ]
  },
  {
   "cell_type": "code",
   "execution_count": null,
   "metadata": {
   },
   "outputs": [],
   "source": [
    "# Write your purify function here\n",
    "\n",
    "\n",
    "\n",
    "\n",
    "\n",
    "\n",
    "\n",
    "# Do not alter the following lines\n",
    "print(purify([1,2,3]))             # Should return [2]\n",
    "print(purify(list(range(11))))     # Should return [0,2,4,6,8,10]\n",
    "print(purify([3,9,5]))             # Should return []"
   ]
  },
  {
   "cell_type": "markdown",
   "metadata": {},
   "source": [
    "In the box below, define a function called `product` that takes a list of integers as input and returns the product of all the elements in the list as an integer. Don't worry about the list being empty."
   ]
  },
  {
   "cell_type": "code",
   "execution_count": null,
   "metadata": {
   },
   "outputs": [],
   "source": [
    "# Write your product function here\n",
    "\n",
    "\n",
    "\n",
    "\n",
    "\n",
    "\n",
    "# Do not alter the following lines\n",
    "print(product([4,5,5]))       # Should be 100\n",
    "print(product([13,5,4,1]))    # Should be 260\n",
    "print(product([122,358,0]))   # Should be 0"
   ]
  },
  {
   "cell_type": "markdown",
   "metadata": {},
   "source": [
    "Finally, something a bit trickier to end with. In the box below, write a function `remove_duplicates` that takes in a list and removes elements of the list that are the same. Don't remove *every* occurrence, since you need to keep a single occurrence of a number. The order in which you present your output does not matter. Once again, do not modify the list taken as input."
   ]
  },
  {
   "cell_type": "code",
   "execution_count": null,
   "metadata": {
   },
   "outputs": [],
   "source": [
    "# Write your remove_duplicates function here\n",
    "\n",
    "\n",
    "\n",
    "\n",
    "\n",
    "\n",
    "\n",
    "# Do not alter the following lines\n",
    "print(remove_duplicates([1,1,2,2]))             # Should return [1,2]\n",
    "print(remove_duplicates([1,2,3]))               # Should return [1,2,3]\n",
    "print(remove_duplicates([5,7,9,7,9,5,5,7,9]))   # Should return [5,7,9]"
   ]
  },
  {
   "cell_type": "markdown",
   "metadata": {},
   "source": [
    "<br/>"
   ]
  },
  {
   "cell_type": "markdown",
   "metadata": {},
   "source": [
    "## Chapter 12: Dictionaries"
   ]
  },
  {
   "cell_type": "markdown",
   "metadata": {},
   "source": [
    "### 12.1. Dictionary syntax: Adding and removing items"
   ]
  },
  {
   "cell_type": "markdown",
   "metadata": {},
   "source": [
    "A **dictionary** is similar to a list, but you access values by looking up a **key** instead of an index. A key can be any string or number, and combining keys of different types in one dictionary is allowed. (To be precise: other types of keys are allowed too, as long as they are \"immutable\".) The values can be of any type.\n",
    "\n",
    "Dictionaries are enclosed in curly braces, like so:"
   ]
  },
  {
   "cell_type": "code",
   "execution_count": null,
   "metadata": {
   },
   "outputs": [],
   "source": [
    "d = {'key1' : 1, 'key2' : 2, 'key3' : 3}"
   ]
  },
  {
   "cell_type": "markdown",
   "metadata": {},
   "source": [
    "This is a dictionary called `d` with three **key-value pairs**. The key `'key1'` points to the value `1`, `'key2'` to `2`, and so on.\n",
    "\n",
    "Dictionaries are great for things like phone books (pairing a name with a phone number), login pages (pairing an e-mail address with a username), and more!\n"
   ]
  },
  {
   "cell_type": "markdown",
   "metadata": {},
   "source": [
    "Like lists, dictionaries are \"mutable\". This means they can be changed after they are created. One advantage of this is that we can add new key/value pairs to the dictionary after it is created like so: `dict[new_key] = new_value`. Applied to our example:"
   ]
  },
  {
   "cell_type": "code",
   "execution_count": null,
   "metadata": {
   },
   "outputs": [],
   "source": [
    "print(d)\n",
    "d['key4'] = 5\n",
    "print(d)"
   ]
  },
  {
   "cell_type": "markdown",
   "metadata": {},
   "source": [
    "An empty pair of curly braces `{}` is an empty dictionary, just like an empty pair of `[]` is an empty list.\n",
    "\n",
    "The length `len()` of a dictionary is the number of key-value pairs it has. Each pair counts only once, even if the value is a list. (That's right: you can put lists inside dictionaries!)"
   ]
  },
  {
   "cell_type": "markdown",
   "metadata": {},
   "source": [
    "Because dictionaries are mutable, they can be changed in many ways. Items can be removed from a dictionary with the `del` command:\n",
    "\n",
    "`del dict[key_name]`\n",
    "\n",
    "will remove the key `key_name` and its associated value from the dictionary. Applied to our example:"
   ]
  },
  {
   "cell_type": "code",
   "execution_count": null,
   "metadata": {
   },
   "outputs": [],
   "source": [
    "print(d)\n",
    "del d['key4']\n",
    "print(d)"
   ]
  },
  {
   "cell_type": "markdown",
   "metadata": {},
   "source": [
    "Let's test what we've learned so far with the dictionary `inventory` below. To the following:\n",
    "\n",
    "1. Add a key to `inventory` called `'pocket'`.\n",
    "2. Set the value of `'pocket'` to be a list consisting of the strings `'seashell'`, `'strange berry'`, and `'lint'`.\n",
    "3. Sort the items in the list stored under the `'backpack'` key.\n",
    "4. Remove the `'dagger'` from the list of items stored under the `'backpack'` key.\n",
    "5. Add 50 to the number stored under the `'gold'` key. "
   ]
  },
  {
   "cell_type": "code",
   "execution_count": null,
   "metadata": {
   },
   "outputs": [],
   "source": [
    "# Do not directly change the lines below:\n",
    "inventory = {\n",
    "    'gold' : 500,\n",
    "    'pouch' : ['flint', 'twine', 'gemstone'],\n",
    "    'backpack' : ['xylophone','dagger', 'bedroll','bread loaf']\n",
    "}\n",
    "\n",
    "# Adding a key 'burlap bag' and assigning a list to it; do not change\n",
    "inventory['burlap bag'] = ['apple', 'small ruby', 'three-toed sloth']\n",
    "\n",
    "# Sorting the list found under the key 'pouch'; do not change\n",
    "inventory['pouch'].sort() \n",
    "\n",
    "# Your code here\n",
    "\n",
    "\n",
    "\n",
    "\n",
    "\n",
    "# Do not alter the following line\n",
    "print(inventory)"
   ]
  },
  {
   "cell_type": "markdown",
   "metadata": {
   },
   "source": [
    "### 12.2. Iterating over dictionaries"
   ]
  },
  {
   "cell_type": "markdown",
   "metadata": {},
   "source": [
    "Since dictionaries can contain a variety of data types, they are useful in many scenarios. However, printing a dictionary as a whole can easily become bulky and cluttered, as you've seen above when printing the `inventory`. Here, looping over a dictionary may come in handy.\n",
    "\n",
    "When looping over a dictionary, using the `for key in d` syntax we've seen before when discussing for loops, you loop over every key value in the dictionary. With this key, we can then access its value. For instance, if we want to get a clear overview of the content of our `inventory` above, we can use the following chunk of code:"
   ]
  },
  {
   "cell_type": "code",
   "execution_count": null,
   "metadata": {
   },
   "outputs": [],
   "source": [
    "for key in inventory:\n",
    "    print(key + \": \" + str(inventory[key]))"
   ]
  },
  {
   "cell_type": "markdown",
   "metadata": {},
   "source": [
    "Much clearer, no? Note, however, that dictionaries are **unordered**, meaning that any time you loop through a dictionary, you will get through *every* key, but you are not guaranteed to get them in any particular order.\n",
    "\n",
    "In the example above, we directly iterated over every key. However, in some instances, it may be interesting to obtain the keys (or the values, or the key/value pairs) as a list. This can be done as follows:\n",
    "\n",
    "* `d.items()`: returns all the key/value pairs of the dictionary `d` as list of **tuples**. In a simplified sense, tuples can be thought of as an immutable list; they are surrounded by `()`s and can contain any data type\n",
    "* `d.keys()`: returns all the keys of the dictionary `d` as a list.\n",
    "* `d.values()`: returns all the values of the dictionary `d` as a list.\n",
    "\n",
    "\n",
    "Note that these functions do not return keys and/or values in any specific order.\n",
    "\n",
    "As an example, execute the chunk of code below to illustrate how these functions work:"
   ]
  },
  {
   "cell_type": "code",
   "execution_count": null,
   "metadata": {
   },
   "outputs": [],
   "source": [
    "print(\"Printing the key/value pairs:\")\n",
    "print(inventory.items())\n",
    "print()\n",
    "\n",
    "print(\"Printing only the keys:\")\n",
    "print(inventory.keys())\n",
    "print()\n",
    "\n",
    "print(\"Printing only the values:\")\n",
    "print(inventory.values())"
   ]
  },
  {
   "cell_type": "markdown",
   "metadata": {},
   "source": [
    "Note that dictionaries, just like lists and strings, are **iterable objects**. Formally these are objects that can be converted to an **iterator** using the built-in `iter` function, so that they can be used in a `for` loop. However, in practice, it is sufficient to know that these objects behave like lists when used in a `for` loop, and that they have some [built-in functions](https://docs.python.org/2/library/functions.html) that can be useful, such as `sum()`, `any()`, `all()`, and `map()`. "
   ]
  },
  {
   "cell_type": "markdown",
   "metadata": {},
   "source": [
    "### 12.3. Some practice"
   ]
  },
  {
   "cell_type": "markdown",
   "metadata": {},
   "source": [
    "Time to get some practice, and what better way to do than with Scrabble? Scrabble is a game where players get points by spelling words. Words are scored by adding together the point values of each individual letter (we'll leave out the double and triple letter and word scores for now).\n",
    "\n",
    "In the example below, the dictionary `score` contains all of the letters in the alphabet with their corresponding Scrabble point values. Below this dictionary, a function `scrabble_score` should be written that takes a string `word` as input and returns the equivalent scrabble score for that word. Your function should work even if the letters you get are uppercase, lowercase, or a mix. You may assume that your input is only one word, containing no spaces or punctuation, and is non-empty. As mentioned, no need to worry about score multipliers."
   ]
  },
  {
   "cell_type": "code",
   "execution_count": null,
   "metadata": {
   },
   "outputs": [],
   "source": [
    "# Do not alter the following dictionary\n",
    "score = {\"a\": 1, \"c\": 3, \"b\": 3, \"e\": 1, \"d\": 2, \"g\": 2, \n",
    "         \"f\": 4, \"i\": 1, \"h\": 4, \"k\": 5, \"j\": 8, \"m\": 3, \n",
    "         \"l\": 1, \"o\": 1, \"n\": 1, \"q\": 10, \"p\": 3, \"s\": 1, \n",
    "         \"r\": 1, \"u\": 1, \"t\": 1, \"w\": 4, \"v\": 4, \"y\": 4, \n",
    "         \"x\": 8, \"z\": 10}\n",
    "\n",
    "# Define your function scrabble_score below\n",
    "\n",
    "\n",
    "\n",
    "\n",
    "\n",
    "\n",
    "# Do not alter the following lines\n",
    "print(scrabble_score(\"Helix\"))    # Should return 15\n",
    "print(scrabble_score(\"PytHoN\"))   # Should return 14\n",
    "print(scrabble_score(\"zebras\"))   # Should return 17"
   ]
  },
  {
   "cell_type": "markdown",
   "metadata": {},
   "source": [
    "Okay, time for a second test. For this test, you will be the proud owner of your own supermarket. \n",
    "\n",
    "1. Create a dictionary, `prices`, that contains the following keys: `banana` (`4`), `apple` (`2`), `orange` (`1.5`), `pear` (`3`). The values in between brackets denote the prices of the items, and should be assigned as values to the respective keys.\n",
    "2. Create a second dictionary, `stock`, which holds the stock count for the above items. When opening your store, you have 6 bananas, 0 apples, 32 oranges, and 15 pears.\n",
    "3. Before opening your business, you should print out all of your inventory information. For each of the four items, print out the name of the item, its price, and the number of items in stock (on three separate lines). Note that, since the `prices` and `stock` dictionary have the same keys, you can access both in one `for` loop.\n",
    "4. For paperwork and accounting purposes, it is good to know what the value of your stock is before opening your store. Print out the potential value of your stock, assuming you can sell everything.\n",
    "5. Time to take a step back from the management side and take a look through the eyes of the shopper. In order for customers to order online, we are going to have to make a consumer interface. First, make a list called `groceries` with the values `\"banana\"`, `\"orange\"`, and `\"apple\"`.\n",
    "6. Define a function `compute_bill` that takes as only argument a list comprising food items. The function should return the total cost of the items in the list, using the `prices` dictionary. However, you should also check whether the item is in stock in the first place. Ultimately, if an item isn't in stock, then it shouldn't be included in the total. You can't buy or sell what you don't have! If it is in stock, add the price to the total cost, and also subtract one from the item's `stock` count.\n",
    "7. Using the function you defined above, compute the bill corresponding to the `groceries` list. With the definition above, this bill should amount to 5.50. You can alter this list to get some more exercise."
   ]
  },
  {
   "cell_type": "code",
   "execution_count": null,
   "metadata": {
   },
   "outputs": [],
   "source": [
    "# Defining the prices dictionary (step 1)\n",
    "\n",
    "\n",
    "\n",
    "\n",
    "\n",
    "\n",
    "\n",
    "# Defining the stock dictionary (step 2)\n",
    "\n",
    "\n",
    "\n",
    "\n",
    "\n",
    "\n",
    "\n",
    "# Printing out the current stock and price (step 3)\n",
    "\n",
    "\n",
    "\n",
    "\n",
    "    \n",
    "# Printing out the current value of the stock (step 4)\n",
    "\n",
    "\n",
    "\n",
    "\n",
    "\n",
    "\n",
    "      \n",
    "# Creating the groceries list (step 5)\n",
    "\n",
    "      \n",
    "# Define the compute_bill function (step 6):\n",
    "\n",
    "\n",
    "\n",
    "\n",
    "\n",
    "\n",
    "\n",
    "\n",
    "\n",
    "# Print out the current bill (step 7):\n"
   ]
  },
  {
   "cell_type": "markdown",
   "metadata": {},
   "source": [
    "<br/>"
   ]
  },
  {
   "cell_type": "markdown",
   "metadata": {},
   "source": [
    "## Chapter 13: File I/O"
   ]
  },
  {
   "cell_type": "markdown",
   "metadata": {},
   "source": [
    "Before going to some more challenges, let's quickly get familiar with how to read from and write to text files.\n",
    "\n",
    "Until now, the *Python* code you've been writing comes from one source and only goes to one place: you type it in at the keyboard and its results are displayed in the console. But what if you want to read information from a file on your computer, and/or write that information to another file?\n",
    "\n",
    "This process is called **file I/O** (the \"I/O\" stands for \"input/output\"), and *Python* has a number of built-in functions that handle this for you. Let's walk through the process of writing to a file one step at a time."
   ]
  },
  {
   "cell_type": "markdown",
   "metadata": {},
   "source": [
    "### 13.1. Opening and closing files"
   ]
  },
  {
   "cell_type": "markdown",
   "metadata": {},
   "source": [
    "To open files, the `open` function can be used as follows:\n",
    "\n",
    "`f = open(\"text.txt\", mode)`\n",
    "\n",
    "This line tells *Python* to open the file `text.txt`, and store the result of this operation in a file object, `f`. The `mode` keyword specifies the privileges you give *Python* to alter that file:\n",
    "\n",
    "* If `mode = r`, *Python* can only read the file, but not write to it\n",
    "* If `mode = a`, *Python* can read the file and append to it, but not alter the original content\n",
    "* If `mode = r+`, *Python* can read from and write to the file\n",
    "* If `mode = w`, *Python* will write only, *i.e.* any possible existing file with that name will be erased and replaced"
   ]
  },
  {
   "cell_type": "markdown",
   "metadata": {},
   "source": [
    "However, with opening files comes the great responsibility of also closing them. You do this simply by calling\n",
    "\n",
    "`f.close()`\n",
    "\n",
    "where `f` is the file object. If you don't close your file, *Python* **won't** write to it properly. During the I/O process, data is **buffered**: this means that it is held in a temporary location before being written to the file. *Python* doesn't **flush the buffer**—that is, write data to the file—until it's sure you're done writing. One way to do this is to close the file. If you write to a file without closing, the data won't make it to the target file."
   ]
  },
  {
   "cell_type": "markdown",
   "metadata": {},
   "source": [
    "### 13.2. Writing files"
   ]
  },
  {
   "cell_type": "markdown",
   "metadata": {},
   "source": [
    "Now that we know how to open and close files, it's time to write some date to a text file. Once a file is opened and stored in a file object `f`, you can write to it using the syntax\n",
    "\n",
    "`f.write(what_has_to_be_written)`\n",
    "\n",
    "where `what_has_to_be_written` is a string (or automatically recasted to a string). Don't forget, if you don't close your file, *Python* won't write to it properly.\n",
    "\n",
    "We've added a list comprehension `my_list` in the chunk of code below, which generates a list containing the squares of each number from 1 to 10, inclusive. It's up to you to now:\n",
    "\n",
    "* Open a file in write mode and name it `output.txt`.\n",
    "* Iterative over `my_list`, and write each entry to the file. Make sure to add a newline (`\"\\n\"`) after each element to ensure each will appear on its own line.\n",
    "* Close the file when you're done."
   ]
  },
  {
   "cell_type": "code",
   "execution_count": null,
   "metadata": {
   },
   "outputs": [],
   "source": [
    "# Do not alter the following list comprehension\n",
    "my_list = [i**2 for i in range(1, 11)]\n",
    "\n",
    "# First, open the file \"output.txt\"\n",
    "\n",
    "\n",
    "# Second, iterate over my_list, and write each entry to the file\n",
    "\n",
    "\n",
    "    \n",
    "# Finally, close the file\n"
   ]
  },
  {
   "cell_type": "markdown",
   "metadata": {},
   "source": [
    "If everything went right, a file `output.txt` appeared in the folder where this notebook is stored, and contains ten lines."
   ]
  },
  {
   "cell_type": "markdown",
   "metadata": {},
   "source": [
    "### 13.3. Reading files"
   ]
  },
  {
   "cell_type": "markdown",
   "metadata": {},
   "source": [
    "Finally, we want to know how to read from a text file. This can be done in several ways. However, in any case, you need to open the file, as indicated above, in a mode which allows for reading, for instance:\n",
    "\n",
    "`f = open(\"text.txt\", \"r\")`\n",
    "\n",
    "Depending on what you want to obtain, you can read a file in different ways:\n",
    "\n",
    "* With `lines = f.read()`, you will read the whole document, and store it in `lines` as a single string (containing newlines to indicate separate lines).\n",
    "* With `lines = f.readlines()`, you will read the whole document, and store it in `lines` as a list of strings. Each entry of the list corresponds to a given line. If you want to modify the text line by line, this function is very helpful.\n",
    "* With `line = f.readline()`, you will read the next line in the document, and store it in `line` as a single string. Every subsequent call to `.readline()` will return successive lines. This function is preferred when the entire file is too large to store, or when you only need the first few lines of a large document.\n",
    "\n",
    "\n",
    "Let's try it out with the file we created before. Execute the chunk of code below to see the aforementioned functions at work."
   ]
  },
  {
   "cell_type": "code",
   "execution_count": null,
   "metadata": {
   },
   "outputs": [],
   "source": [
    "# First method: let's call f.read() and see what we obtain\n",
    "f = open(\"output.txt\", \"r\")\n",
    "lines = f.read()\n",
    "print(\"If we call .read(), we obtain: \")\n",
    "print(\"As type: \" + str(type(lines)))\n",
    "print(\"As length: \" + str(len(lines)))\n",
    "print()\n",
    "f.close()\n",
    "\n",
    "# Second method: let's call f.readlines() and see what we obtain\n",
    "f = open(\"output.txt\", \"r\")\n",
    "lines = f.readlines()\n",
    "print(\"If we call .readlines(), we obtain: \")\n",
    "print(\"As type: \" + str(type(lines)))\n",
    "print(\"As length: \" + str(len(lines)))\n",
    "print(\"The third element of this list reads: \" + str(lines[2]))\n",
    "print()\n",
    "f.close()      \n",
    "\n",
    "# Third method: let's call f.readline() a few times\n",
    "f = open(\"output.txt\", \"r\")\n",
    "line = f.readline()\n",
    "print(\"If we call .readline(), we obtain: \")\n",
    "print(\"As type: \" + str(type(line)))\n",
    "print(\"As length: \" + str(len(line)))\n",
    "print(\"As content: \" + str(line))\n",
    "print(\"If we call .readline() again, we obtain:\")\n",
    "line = f.readline()\n",
    "print(\"As type: \" + str(type(line)))\n",
    "print(\"As length: \" + str(len(line)))\n",
    "print(\"As content: \" + str(line))\n",
    "f.close() "
   ]
  },
  {
   "cell_type": "markdown",
   "metadata": {},
   "source": [
    "### 13.4. Automatically closing files with with and as"
   ]
  },
  {
   "cell_type": "markdown",
   "metadata": {},
   "source": [
    "Programming is all about getting the computer to do the work. Is there a way to get *Python* to automatically close our files for us?\n",
    "\n",
    "Of course there is. This is *Python*.\n",
    "\n",
    "You may not know this, but file objects contain a special pair of built-in methods: `__enter__()` and `__exit__()`. The details aren't important, but what is important is that when a file object's `__exit__()` method is invoked, it automatically closes the file. How do we invoke this method? With `with` and `as`.\n",
    "\n",
    "Check out the example below. Using `with` and `as`, the file closes itself after the indented block."
   ]
  },
  {
   "cell_type": "code",
   "execution_count": null,
   "metadata": {
   },
   "outputs": [],
   "source": [
    "with open(\"text.txt\", \"w\") as f:\n",
    "    f.write(\"Success!\")"
   ]
  },
  {
   "cell_type": "markdown",
   "metadata": {},
   "source": [
    "So, now you should have everything to read from and write to your own files when necessary! Time for some challenges!"
   ]
  },
  {
   "cell_type": "markdown",
   "metadata": {},
   "source": [
    "### 13.5. Files as iterable objects"
   ]
  },
  {
   "cell_type": "markdown",
   "metadata": {},
   "source": [
    "A file object is iterable, which means it can be used in a `for` loop. This is often an easy way to access the file line by line:\n",
    "\n",
    "```\n",
    "    with open('foobar.txt', 'r') as f:\n",
    "        for line in f:\n",
    "            # Do something with line\n",
    "\n",
    "```"
   ]
  },
  {
   "cell_type": "markdown",
   "metadata": {},
   "source": [
    "<br/>"
   ]
  },
  {
   "cell_type": "markdown",
   "metadata": {},
   "source": [
    "## Chapter 14: The student becomes the teacher challenge"
   ]
  },
  {
   "cell_type": "markdown",
   "metadata": {},
   "source": [
    "In this challenge, you will make a gradebook for all of your students: Lloyd, Alice, and Tyler. Each of these students has completed his or her homework, in addition to a set of quizzes and tests. You have already graded all these items, and are now ready to give a final score to your students. As you will see, dictionaries will be very useful.\n",
    "\n",
    "1. Start by defining three dictionaries: `lloyd`, `alice`, and `tyler`, and make sure every dictionary contains the keys `\"name\"`, `\"homework\"`, `\"quizzes\"`, and `\"tests\"`. Have the `\"name\"` key be the name of the student (that is, `lloyd`s name should be `\"Lloyd\"`). The other entries are lists, and should have the content below:\n",
    "    * Lloyd has turned in four homeworks (graded 90.0, 97.0, 75.0, and 92.0), three quizzes (graded 88.0, 40.0, and 94.0) and two tests (graded 75.0 and 90.0)\n",
    "    * Alice has turned in four homeworks (graded 100.0, 92.0, 98.0, and 100.0), three quizzes (graded 82.0, 83.0, and 91.0) and two tests (graded 89.0 and 97.0)\n",
    "    * Tyler has turned in four homeworks (graded 0.0, 87.0, 75.0, and 22.0), three quizzes (0.0, 75.0, and 78.0) and two tests (100.0 and 100.0).\n",
    "    \n",
    "2. Create a list called `students` that contains the three dictionaries of your students. For each student in the list, print out that student's data, as follows:\n",
    "   * print the student's name\n",
    "   * print the student's homework results\n",
    "   * print the student's quiz results\n",
    "   * print the student's test results\n",
    "   \n",
    "3. Let's calculate averages. Define a first function, `average`, that takes a list of numbers and returns the average, using the built-in functions `sum()` and `len()`. Define a second function, `get_average`, that takes one argument, a dictionary, that calculates the average of that student's homework, quizzes, and tests and stores them in separate variables. Then, it returns the weighted average of these three results, in which homework counts for 10%, quizzes for 30%, and tests for 60%.\n",
    "\n",
    "4. Now, let's define a new function, `get_letter_grade`, that takes a number score as input and returns a string with the letter grade that the student should receive:\n",
    "    * if the score is 90 or above: `\"A\"`\n",
    "    * if the score is in [80,90[: `\"B\"`\n",
    "    * if the score is in [70,80[: `\"C\"`\n",
    "    * if the score is in [60,70[: `\"D\"`\n",
    "    * if the score is below 60: `\"F\"`\n",
    "    \n",
    "5. Test your functions by calling `get_letter_grade` on the result of `get_average(lloyd)`. Print the resulting letter grade and verify it's `\"B\"`.\n",
    "\n",
    "6. Calculate the class average. For this, define a function called `get_class_average` that takes in a list of student dictionaries and returns the global average over all students, following the same weights as before. Print out the results of calling this function with your `students` list, and print the result of calling `get_letter_grade` for the class average. You should obtain a class average of `83.87`, corresponding to a `\"B\"`."
   ]
  },
  {
   "cell_type": "code",
   "execution_count": null,
   "metadata": {
   },
   "outputs": [],
   "source": [
    "\n",
    "\n",
    "\n",
    "\n",
    "\n",
    "\n",
    "\n",
    "\n",
    "\n",
    "\n",
    "\n",
    "\n",
    "\n",
    "\n",
    "\n",
    "\n",
    "\n",
    "\n",
    "\n",
    "\n",
    "\n",
    "\n",
    "\n",
    "\n",
    "\n",
    "\n",
    "\n",
    "\n",
    "\n",
    "\n",
    "\n",
    "\n",
    "\n",
    "\n",
    "\n",
    "\n",
    "\n",
    "\n",
    "\n",
    "\n",
    "\n",
    "\n",
    "\n",
    "\n",
    "\n",
    "\n",
    "\n",
    "\n",
    "\n",
    "\n",
    "\n",
    "\n",
    "\n",
    "\n",
    "\n",
    "\n"
   ]
  },
  {
   "cell_type": "markdown",
   "metadata": {},
   "source": [
    "<br/>"
   ]
  },
  {
   "cell_type": "markdown",
   "metadata": {},
   "source": [
    "## Chapter 15: The exam statistics challenge"
   ]
  },
  {
   "cell_type": "markdown",
   "metadata": {},
   "source": [
    "Time to see how your students scored on their exam. The grades of your students' last exam are in, and you want to extract some basic information from it. Let's go!\n",
    "\n",
    "1. Your students have obtained the following grades: [100, 100, 90, 40, 80, 100, 85, 70, 90, 65, 90, 85, 50.5]. Create a list `grades` that contains these grades.\n",
    "2. Define a function `print_grades` that takes a list of grades and prints each grade on its own line. Test the function on your `grades`.\n",
    "3. For the sake of this challenge, let's calculate the average manually. Create a function, `grades_sum`, that takes in a list of grades, and returns the manually computed sum of these grades. Second, define a function `grades_average` that takes in a list of grades and returns the average of these grades, using your previous function. (There is actually a built-in function to sum over all items in a list: `sum(grades)` will simply work.)\n",
    "4. On to the next statistic: the variance. The variance allows us to see how widespread the grades are from the average. Define a new function called `grades_variance` that accepts one argument: a list of scores. In the body of this function, determine the squared deviation of each score from the average of the list: `(average-score)**2`. Sum these contributions, and divide by the total number of scores to obtain the variance. Return this variance.\n",
    "5. Write a function called `grades_std` that accepts one argument, a list of scores, and returns the standard deviation of these scores. The standard deviation is defined as the square root of the variance.\n",
    "6. Finally, calculate the average, variance and standard deviation of the `grades` list to verify your functions. When rounded to two decimal figures, you should obtain 80.42, 334.07, and 18.28 for the average, variance, and standard deviation, respectively."
   ]
  },
  {
   "cell_type": "code",
   "execution_count": null,
   "metadata": {
   },
   "outputs": [],
   "source": [
    "\n",
    "\n",
    "\n",
    "\n",
    "\n",
    "\n",
    "\n",
    "\n",
    "\n",
    "\n",
    "\n",
    "\n",
    "\n",
    "\n",
    "\n",
    "\n",
    "\n",
    "\n",
    "\n",
    "\n",
    "\n",
    "\n",
    "\n",
    "\n",
    "\n",
    "\n",
    "\n",
    "\n",
    "\n",
    "\n"
   ]
  },
  {
   "cell_type": "markdown",
   "metadata": {},
   "source": [
    "<br/>"
   ]
  },
  {
   "cell_type": "markdown",
   "metadata": {},
   "source": [
    "## Chapter 16: The Battleship challenge"
   ]
  },
  {
   "cell_type": "markdown",
   "metadata": {},
   "source": [
    "In this last project, you will build a simplified, one-player version of the classic board game *Battleship*. In this version of the game, there will be a single ship hidden in a random location on a 5x5 grid. The player will have 4 guesses to try to sink the ship."
   ]
  },
  {
   "cell_type": "markdown",
   "metadata": {},
   "source": [
    "1. Create a variable `board`, an empty list. Create a 5x5 grid initialized to all `\"O\"`s and store it in `board`. Use the `range` function to iterate over the five rows, and recall the `[\"A\"]*5` syntax.\n",
    "2. Now that we've built our board, let's show it off. Throughout the game, we'll want to print the game board so that the player can see which locations they have already guessed. Regularly printing the board will also help us debug our program, but the default `print` statement does a poor job to give a nice overview of the board (you can check this if you want). Hence, we will define a function `print_board` with a single argument, `board`. Inside the function, write a `for` loop to iterate through each row in the board. For each row, use the `separator.join(list)` method to join the elements of each row together, using `\" \"` as the separator, and print it to the screen. Call your function with `board` to make sure that it works.\n",
    "3. Let's now hide the battleship in a random location on the board. Since we have a two-dimensional list, we'll use two variables to store the ship's location: `ship_row` and `ship_col`.\n",
    "    1. First, import the function `randint` from the module `random`. The function `randint` can be called as `randint(low,high)` to give a random integer in the range [`low`,`high`[.\n",
    "    2. Define a new function, `random_row`, that takes a board as input. This function should return a random row index from your board. As we only use square boards in this challenge, you can also use this function to draw a random column index.\n",
    "    3. Store the random row and column indices in the variables `ship_row` and `ship_col`.\n",
    "4. Now that you've hidden your battleship in the ocean, let's write a function, `player_guess`, to allow the player to guess where it is. This function takes as arguments the `board` in its current state, as well as `ship_row` and `ship_col`. The function should do the following:\n",
    "    1. Ask the player to provide a guess for the row and column (in separate statements), and store these variables (recall the `input` function).\n",
    "    2. If the guess is correct, the function should print out `\"Congratulations! You sank my battleship!\"`.\n",
    "    3. If the guess is incorrect, three possibilities may occur. If the guessed row and/or column fall outside the range of the board, print out `\"Oops, that's not even in the ocean.\"`. If the guessed location was guessed before, print `\"You've guessed that one already\"`. For all other incorrect guesses, print the statement `\"You missed my battleship!\"`, and mark on the `board` the guessed location by an `\"X\"`.\n",
    "    4. In any case, return the `board` in its new state, as well as a boolean indicating whether your battleship has been sunk.\n",
    "    \n",
    "5. Add a `for` loop that repeats the guessing and checking for four turns. It should print at the beginning of each iteration the number of the iteration (starting from 1), and the current state of the board. Depending on whether the player succeeds in finding your battleship within the allocated number of guesses, the following should happen:\n",
    "    1. If the player guesses incorrectly at the last turn, print `\"Game over.\"`\n",
    "    2. If the player guesses correctly, the game should end.\n",
    "    \n",
    "6. Have fun! You can increase the number of guesses, if it's too hard, or implement larger boards and more (bigger) ships. Check whether your program correctly identifies all possible wrong guesses."
   ]
  },
  {
   "cell_type": "code",
   "execution_count": null,
   "metadata": {
   },
   "outputs": [],
   "source": [
    "\n",
    "\n",
    "\n",
    "\n",
    "\n",
    "\n",
    "\n",
    "\n",
    "\n",
    "\n",
    "\n",
    "\n",
    "\n",
    "\n",
    "\n",
    "\n",
    "\n",
    "\n",
    "\n",
    "\n",
    "\n",
    "\n",
    "\n",
    "\n",
    "\n",
    "\n",
    "\n",
    "\n",
    "\n",
    "\n",
    "\n",
    "\n",
    "\n",
    "\n",
    "\n",
    "\n",
    "\n",
    "\n",
    "\n",
    "\n",
    "\n",
    "\n",
    "\n",
    "\n"
   ]
  },
  {
   "cell_type": "markdown",
   "metadata": {},
   "source": [
    "Congratulations: you completed the third notebook!"
   ]
  }
 ],
 "metadata": {
  "kernelspec": {
   "display_name": "Python 3",
   "language": "python",
   "name": "python3"
  },
  "language_info": {
   "codemirror_mode": {
    "name": "ipython",
    "version": 2
   },
   "file_extension": ".py",
   "mimetype": "text/x-python",
   "name": "python",
   "nbconvert_exporter": "python",
   "pygments_lexer": "ipython2",
   "version": "2.7.13"
  }
 },
 "nbformat": 4,
 "nbformat_minor": 2
}
